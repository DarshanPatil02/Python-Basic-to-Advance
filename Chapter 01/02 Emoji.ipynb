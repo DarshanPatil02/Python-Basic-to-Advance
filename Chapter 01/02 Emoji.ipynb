{
 "cells": [
  {
   "cell_type": "code",
   "execution_count": 1,
   "metadata": {},
   "outputs": [
    {
     "name": "stdout",
     "output_type": "stream",
     "text": [
      "😂\n",
      "😄\n",
      "😘\n"
     ]
    }
   ],
   "source": [
    "#print Emoji\n",
    "# https://unicode.org/emoji/charts/full-emoji-list.html\n",
    "print(\"\\U0001F602\")\n",
    "print(\"\\U0001F604\")\n",
    "print(\"\\U0001F618\")"
   ]
  }
 ],
 "metadata": {
  "kernelspec": {
   "display_name": "base",
   "language": "python",
   "name": "python3"
  },
  "language_info": {
   "codemirror_mode": {
    "name": "ipython",
    "version": 3
   },
   "file_extension": ".py",
   "mimetype": "text/x-python",
   "name": "python",
   "nbconvert_exporter": "python",
   "pygments_lexer": "ipython3",
   "version": "3.9.13"
  }
 },
 "nbformat": 4,
 "nbformat_minor": 2
}
