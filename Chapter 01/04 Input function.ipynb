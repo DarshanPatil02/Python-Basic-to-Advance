{
 "cells": [
  {
   "cell_type": "code",
   "execution_count": 1,
   "metadata": {},
   "outputs": [
    {
     "name": "stdout",
     "output_type": "stream",
     "text": [
      "My name is Darshan\n"
     ]
    }
   ],
   "source": [
    "a = \"My name is\"\n",
    "b = \"Darshan\"\n",
    "print(a+\" \"+b)"
   ]
  },
  {
   "cell_type": "code",
   "execution_count": 2,
   "metadata": {},
   "outputs": [
    {
     "name": "stdout",
     "output_type": "stream",
     "text": [
      "My age is:22\n"
     ]
    }
   ],
   "source": [
    "age = input(\"Enter your age:\")\n",
    "my_age_is=\"My age is:\"\n",
    "print(my_age_is+age)"
   ]
  },
  {
   "cell_type": "code",
   "execution_count": 3,
   "metadata": {},
   "outputs": [
    {
     "name": "stdout",
     "output_type": "stream",
     "text": [
      "Sum of Number1 and Number2 is 13\n"
     ]
    }
   ],
   "source": [
    "number_1 = int(input(\"Enter your number: \"))\n",
    "number_2 = int(input(\"Enter your number: \"))\n",
    "print(\"Sum of Number1 and Number2 is\", number_1+number_2)"
   ]
  },
  {
   "cell_type": "code",
   "execution_count": 4,
   "metadata": {},
   "outputs": [
    {
     "name": "stdout",
     "output_type": "stream",
     "text": [
      "My name is Darshan and my age is 22\n"
     ]
    }
   ],
   "source": [
    "name,age = \"Darshan\",\"22\"\n",
    "print(f\"My name is {name} and my age is {age}\")"
   ]
  },
  {
   "cell_type": "code",
   "execution_count": 5,
   "metadata": {},
   "outputs": [
    {
     "name": "stdout",
     "output_type": "stream",
     "text": [
      "3\n"
     ]
    }
   ],
   "source": [
    "x=y=z=1\n",
    "print(x+y+z)"
   ]
  },
  {
   "cell_type": "code",
   "execution_count": 6,
   "metadata": {},
   "outputs": [
    {
     "name": "stdout",
     "output_type": "stream",
     "text": [
      "My name is Darshan and my age is 22\n"
     ]
    }
   ],
   "source": [
    "name,age = input(\"Enter your name and age \").split()\n",
    "print(f\"My name is {name} and my age is {age}\")"
   ]
  },
  {
   "cell_type": "code",
   "execution_count": 7,
   "metadata": {},
   "outputs": [
    {
     "name": "stdout",
     "output_type": "stream",
     "text": [
      "Hello Darshan my age is 22\n",
      "Hello Darshan my age is 22\n"
     ]
    }
   ],
   "source": [
    "# String Formatting\n",
    "\n",
    "name = \"Darshan\"\n",
    "age = \"22\"\n",
    "\n",
    "print(\"Hello {} my age is {}\".format(name,age))\n",
    "# OR\n",
    "print(f\"Hello {name} my age is {age}\")\n"
   ]
  }
 ],
 "metadata": {
  "kernelspec": {
   "display_name": "base",
   "language": "python",
   "name": "python3"
  },
  "language_info": {
   "codemirror_mode": {
    "name": "ipython",
    "version": 3
   },
   "file_extension": ".py",
   "mimetype": "text/x-python",
   "name": "python",
   "nbconvert_exporter": "python",
   "pygments_lexer": "ipython3",
   "version": "3.9.13"
  }
 },
 "nbformat": 4,
 "nbformat_minor": 2
}
