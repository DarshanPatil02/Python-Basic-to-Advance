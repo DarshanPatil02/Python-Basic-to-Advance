{
 "cells": [
  {
   "cell_type": "code",
   "execution_count": null,
   "metadata": {},
   "outputs": [],
   "source": [
    "# *******Print the following lines*******\n",
    "# this is \\\\ double backslash\n",
    "# this is /\\/\\/\\/\\/\\ mountain\n",
    "# he is     awesome (use escape sequence insted of manual spaces)\n",
    "# \\\" \\n \\t \\' (print this as an output)\n"
   ]
  },
  {
   "cell_type": "code",
   "execution_count": 1,
   "metadata": {},
   "outputs": [
    {
     "name": "stdout",
     "output_type": "stream",
     "text": [
      "this is \\\\ double backslash\n",
      "this is /\\/\\/\\/\\/\\ mountain\n",
      "he is \t awesome\n",
      "\\\" \\n \\t \\'\n"
     ]
    }
   ],
   "source": [
    "print(\"this is \\\\\\\\ double backslash\")\n",
    "print(\"this is /\\\\/\\\\/\\\\/\\\\/\\\\ mountain\")\n",
    "print(\"he is \\t awesome\")\n",
    "print(\"\\\\\\\" \\\\n \\\\t \\\\\\'\")"
   ]
  }
 ],
 "metadata": {
  "kernelspec": {
   "display_name": "base",
   "language": "python",
   "name": "python3"
  },
  "language_info": {
   "codemirror_mode": {
    "name": "ipython",
    "version": 3
   },
   "file_extension": ".py",
   "mimetype": "text/x-python",
   "name": "python",
   "nbconvert_exporter": "python",
   "pygments_lexer": "ipython3",
   "version": "3.9.13"
  }
 },
 "nbformat": 4,
 "nbformat_minor": 2
}
