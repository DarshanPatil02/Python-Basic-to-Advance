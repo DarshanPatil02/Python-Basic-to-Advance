{
 "cells": [
  {
   "cell_type": "code",
   "execution_count": 1,
   "metadata": {},
   "outputs": [
    {
     "name": "stdout",
     "output_type": "stream",
     "text": [
      "Average of three numbers is: 16.0\n"
     ]
    }
   ],
   "source": [
    "# Q. Ask user to input 3 number and you have to print averageof three numbers\n",
    "n1=input(\"Enter No. 1: \")\n",
    "n2=input(\"Enter No. 2: \")\n",
    "n3=input(\"Enter No. 3: \")\n",
    "print(f\"Average of three numbers is: {(int(n1)+int(n2)+int(n3)/3)}\")\n"
   ]
  },
  {
   "cell_type": "code",
   "execution_count": 2,
   "metadata": {},
   "outputs": [
    {
     "name": "stdout",
     "output_type": "stream",
     "text": [
      "Average of three numbers is 5.333333333333333\n"
     ]
    }
   ],
   "source": [
    "# OR\n",
    "n1,n2,n3=input(\"Enter 3 numbers here: \").split(\",\")\n",
    "Avg=(int(n1)+int(n2)+int(n3))/3\n",
    "print(f\"Average of three numbers is {Avg}\")\n"
   ]
  },
  {
   "cell_type": "code",
   "execution_count": 3,
   "metadata": {},
   "outputs": [
    {
     "name": "stdout",
     "output_type": "stream",
     "text": [
      "nahsraD\n"
     ]
    }
   ],
   "source": [
    "# Q. Ask user name and print it in reverse order\n",
    "user_name=input(\"Please enter your name: \")\n",
    "print(user_name[::-1])"
   ]
  },
  {
   "cell_type": "code",
   "execution_count": 4,
   "metadata": {},
   "outputs": [
    {
     "name": "stdout",
     "output_type": "stream",
     "text": [
      "7\n",
      "2\n"
     ]
    }
   ],
   "source": [
    "# Q. Take two comma seperate input from user \n",
    "# 1) user's name\n",
    "# 2) a single character\n",
    "# Output: \n",
    "# 1) user's name length\n",
    "# 2) count the single character user inputted in user's name\n",
    "\n",
    "user_name_input, user_letter = input(\"Enter your name and letter: \").split(\",\")\n",
    "print(len(user_name_input.strip()))\n",
    "print(user_name_input.strip().lower().count(user_letter.strip().lower()))\n"
   ]
  }
 ],
 "metadata": {
  "kernelspec": {
   "display_name": "base",
   "language": "python",
   "name": "python3"
  },
  "language_info": {
   "codemirror_mode": {
    "name": "ipython",
    "version": 3
   },
   "file_extension": ".py",
   "mimetype": "text/x-python",
   "name": "python",
   "nbconvert_exporter": "python",
   "pygments_lexer": "ipython3",
   "version": "3.9.13"
  }
 },
 "nbformat": 4,
 "nbformat_minor": 2
}
