{
 "cells": [
  {
   "cell_type": "code",
   "execution_count": 1,
   "metadata": {},
   "outputs": [
    {
     "name": "stdout",
     "output_type": "stream",
     "text": [
      "t\n",
      "n\n"
     ]
    }
   ],
   "source": [
    "#string indexing\n",
    "\n",
    "language=\"python\"\n",
    "\n",
    "#position (index number)\n",
    "\n",
    "# p = 0, -6\n",
    "# y = 1, -5\n",
    "# t = 2, -4\n",
    "# h = 3, -3\n",
    "# o = 4, -2\n",
    "# n = 5, -1\n",
    "\n",
    "print(language[2])\n",
    "print(language[-1])"
   ]
  },
  {
   "cell_type": "code",
   "execution_count": 2,
   "metadata": {},
   "outputs": [
    {
     "name": "stdout",
     "output_type": "stream",
     "text": [
      "th\n",
      "thon\n",
      "pytho\n"
     ]
    }
   ],
   "source": [
    "#Slicing/ Selecting sub sequence\n",
    "# Syntax - (start argument: stop argument -1)\n",
    "\n",
    "print(language[2:4])\n",
    "print(language[2:])\n",
    "print(language[:5])"
   ]
  },
  {
   "cell_type": "code",
   "execution_count": 3,
   "metadata": {},
   "outputs": [
    {
     "name": "stdout",
     "output_type": "stream",
     "text": [
      "pto\n",
      "ph\n",
      "nohtyp\n"
     ]
    }
   ],
   "source": [
    "# String step argument\n",
    "# Syntax - (start argument: stop argument -1 :step)\n",
    "\n",
    "print(language[0:5:2])\n",
    "print(language[::3])\n",
    "print(language[::-1])"
   ]
  }
 ],
 "metadata": {
  "kernelspec": {
   "display_name": "base",
   "language": "python",
   "name": "python3"
  },
  "language_info": {
   "codemirror_mode": {
    "name": "ipython",
    "version": 3
   },
   "file_extension": ".py",
   "mimetype": "text/x-python",
   "name": "python",
   "nbconvert_exporter": "python",
   "pygments_lexer": "ipython3",
   "version": "3.9.13"
  }
 },
 "nbformat": 4,
 "nbformat_minor": 2
}
