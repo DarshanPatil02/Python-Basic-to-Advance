{
 "cells": [
  {
   "cell_type": "code",
   "execution_count": 1,
   "metadata": {},
   "outputs": [],
   "source": [
    "# loops in tuples\n",
    "# tuple with one element\n",
    "# tuple without parenthesis\n",
    "# tuple unpacking\n",
    "# list inside tuple\n",
    "# some function that you can use with tuples\n",
    "\n",
    "mixed = (1,2,3,4.0)\n"
   ]
  },
  {
   "cell_type": "code",
   "execution_count": 2,
   "metadata": {},
   "outputs": [
    {
     "name": "stdout",
     "output_type": "stream",
     "text": [
      "1\n",
      "2\n",
      "3\n",
      "4.0\n"
     ]
    }
   ],
   "source": [
    "# for loop in tuple\n",
    "for i in mixed:\n",
    "    print(i)"
   ]
  },
  {
   "cell_type": "code",
   "execution_count": 3,
   "metadata": {},
   "outputs": [
    {
     "name": "stdout",
     "output_type": "stream",
     "text": [
      "<class 'tuple'>\n",
      "<class 'tuple'>\n"
     ]
    }
   ],
   "source": [
    "# tuple with one element   ---> syntax ----> tuple = (element,) ----> comma is important\n",
    "nums = (1,)\n",
    "words = (\"word1\",)\n",
    "print(type(nums))\n",
    "print(type(words))"
   ]
  },
  {
   "cell_type": "code",
   "execution_count": 4,
   "metadata": {},
   "outputs": [
    {
     "name": "stdout",
     "output_type": "stream",
     "text": [
      "('yamaha', 'baton rouge', 'taylor')\n",
      "<class 'tuple'>\n"
     ]
    }
   ],
   "source": [
    "# tuple without parenthesis\n",
    "guitars = 'yamaha', \"baton rouge\", 'taylor'\n",
    "print(guitars)\n",
    "print(type(guitars))"
   ]
  },
  {
   "cell_type": "code",
   "execution_count": 5,
   "metadata": {},
   "outputs": [
    {
     "name": "stdout",
     "output_type": "stream",
     "text": [
      "Maneli Jamal <class 'str'>\n",
      "Eddie Van Der Meer <class 'str'>\n",
      "Andrew Foy <class 'str'>\n"
     ]
    }
   ],
   "source": [
    "# tuple unpacking\n",
    "guitarists = ('Maneli Jamal', 'Eddie Van Der Meer', \"Andrew Foy\")\n",
    "guitarists1,guitarists2,guitarists3 = (guitarists)\n",
    "print(guitarists1, type(guitarists1))\n",
    "print(guitarists2, type(guitarists2))\n",
    "print(guitarists3, type(guitarists3))"
   ]
  },
  {
   "cell_type": "code",
   "execution_count": 6,
   "metadata": {},
   "outputs": [
    {
     "name": "stdout",
     "output_type": "stream",
     "text": [
      "('southern magnolia', ['Tokyo Ghoul Theme', 'landscape'])\n",
      "('southern magnolia', ['Tokyo Ghoul Theme'])\n",
      "('southern magnolia', ['Tokyo Ghoul Theme', 'John'])\n"
     ]
    }
   ],
   "source": [
    "# list inside tuple\n",
    "favorites = ('southern magnolia', ['Tokyo Ghoul Theme','landscape'])\n",
    "print(favorites)\n",
    "favorites[1].pop()\n",
    "print(favorites)\n",
    "favorites[1].append(\"John\")\n",
    "print(favorites)"
   ]
  },
  {
   "cell_type": "code",
   "execution_count": 7,
   "metadata": {},
   "outputs": [
    {
     "name": "stdout",
     "output_type": "stream",
     "text": [
      "(1, 2, 3, 4.0)\n",
      "1\n",
      "4.0\n",
      "10.0\n"
     ]
    }
   ],
   "source": [
    "# some function that you can use with tuples\n",
    "# min(), max(), sum()\n",
    "mixed = (1,2,3,4.0)\n",
    "print(mixed)\n",
    "print(min(mixed))\n",
    "print(max(mixed))\n",
    "print(sum(mixed))"
   ]
  }
 ],
 "metadata": {
  "kernelspec": {
   "display_name": "base",
   "language": "python",
   "name": "python3"
  },
  "language_info": {
   "codemirror_mode": {
    "name": "ipython",
    "version": 3
   },
   "file_extension": ".py",
   "mimetype": "text/x-python",
   "name": "python",
   "nbconvert_exporter": "python",
   "pygments_lexer": "ipython3",
   "version": "3.9.13"
  }
 },
 "nbformat": 4,
 "nbformat_minor": 2
}
