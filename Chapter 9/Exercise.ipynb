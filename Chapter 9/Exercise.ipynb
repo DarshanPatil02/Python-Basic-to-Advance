{
 "cells": [
  {
   "cell_type": "code",
   "execution_count": 1,
   "metadata": {},
   "outputs": [
    {
     "name": "stdout",
     "output_type": "stream",
     "text": [
      "['cba', 'vut', 'zyx']\n"
     ]
    }
   ],
   "source": [
    "# Problem 1\n",
    "# define a function that takes alist of String \n",
    "# Return a list containing reverese of string in list\n",
    "\n",
    "def reverse_list(ls):\n",
    "    reverse = [i[::-1] for i in ls]\n",
    "    return reverse\n",
    "\n",
    "print(reverse_list([\"abc\",\"tuv\",\"xyz\"]))"
   ]
  },
  {
   "cell_type": "code",
   "execution_count": 2,
   "metadata": {},
   "outputs": [
    {
     "name": "stdout",
     "output_type": "stream",
     "text": [
      "['1', '2.6', '8']\n"
     ]
    }
   ],
   "source": [
    "# Problem 2\n",
    "# num to string\n",
    "# define a function which take a list containing any datatypes and return int and float in str format\n",
    "\n",
    "def find_numbers(lst):\n",
    "    return [str(i) for i in lst if (type(i)==int or type(i)==float)]\n",
    "    \n",
    "l1 = [True, False, [1,2,3],1,2.6,8]\n",
    "print(find_numbers(l1))"
   ]
  }
 ],
 "metadata": {
  "kernelspec": {
   "display_name": "base",
   "language": "python",
   "name": "python3"
  },
  "language_info": {
   "codemirror_mode": {
    "name": "ipython",
    "version": 3
   },
   "file_extension": ".py",
   "mimetype": "text/x-python",
   "name": "python",
   "nbconvert_exporter": "python",
   "pygments_lexer": "ipython3",
   "version": "3.9.13"
  }
 },
 "nbformat": 4,
 "nbformat_minor": 2
}
