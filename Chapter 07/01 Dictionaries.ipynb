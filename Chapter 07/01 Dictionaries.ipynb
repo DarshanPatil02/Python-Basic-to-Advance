{
 "cells": [
  {
   "cell_type": "code",
   "execution_count": 1,
   "metadata": {},
   "outputs": [],
   "source": [
    "# dictionaries intro\n",
    "\n",
    "#Q - why we use dictionaries?\n",
    "#A - Because of limitations of lists, lists are not enough to represent real data"
   ]
  },
  {
   "cell_type": "code",
   "execution_count": 2,
   "metadata": {},
   "outputs": [],
   "source": [
    "# Example --\n",
    "user = ['Darshan', 22, ['coco', 'kimi no na wa'], ['awakening, fairy tale']] \n",
    "\n",
    "# this list contains user name, age, fav movies, fav tunes\n",
    "# you can do this but this is not a good way to do this."
   ]
  },
  {
   "cell_type": "code",
   "execution_count": 3,
   "metadata": {},
   "outputs": [
    {
     "name": "stdout",
     "output_type": "stream",
     "text": [
      "{'name': 'Darshan', 'age': 22}\n",
      "<class 'dict'>\n"
     ]
    }
   ],
   "source": [
    "#Q. what are dictionaries\n",
    "#A. unordered collections of data in key value pair.\n",
    "# how to create dictionaries\n",
    "\n",
    "user = {\"name\": 'Darshan', \"age\": 22}\n",
    "print(user) \n",
    "print(type(user))"
   ]
  },
  {
   "cell_type": "code",
   "execution_count": 4,
   "metadata": {},
   "outputs": [
    {
     "name": "stdout",
     "output_type": "stream",
     "text": [
      "{'name': 'Darshan', 'age': 22, 'fav_movie': ['coco', 'kimi no na wa'], 'fav_song': ['awakening, fairy tale']}\n",
      "<class 'dict'>\n"
     ]
    }
   ],
   "source": [
    "# Second method to create dict\n",
    "user_info = dict(name='Darshan',age= 22,fav_movie= ['coco', 'kimi no na wa'], fav_song=['awakening, fairy tale'])\n",
    "print(user_info)\n",
    "print(type(user_info))"
   ]
  },
  {
   "cell_type": "code",
   "execution_count": 5,
   "metadata": {},
   "outputs": [
    {
     "name": "stdout",
     "output_type": "stream",
     "text": [
      "{'name': 'Darshan', 'age': 35}\n",
      "{'name': 'Darshan', 'age': 22}\n"
     ]
    }
   ],
   "source": [
    "# Dict does not repeate same key again it update same key with new values\n",
    "dt = {\"name\":'Darshan',\"age\": 22,\"age\":35}\n",
    "print(dt)\n",
    "dt = {\"name\":'Darshan',\"age\": 35,\"age\":22}\n",
    "print(dt)"
   ]
  },
  {
   "cell_type": "code",
   "execution_count": 6,
   "metadata": {},
   "outputs": [
    {
     "name": "stdout",
     "output_type": "stream",
     "text": [
      "Darshan\n",
      "22\n"
     ]
    }
   ],
   "source": [
    "# how to access data from dictionaries\n",
    "# Note - There is no indexing because of unordered collection of data\n",
    "print(user_info[\"name\"])\n",
    "print(user_info['age'])\n"
   ]
  },
  {
   "cell_type": "code",
   "execution_count": 7,
   "metadata": {},
   "outputs": [
    {
     "name": "stdout",
     "output_type": "stream",
     "text": [
      "{'user1': {'name': 'John', 'age': 25}, 'user2': {'name': 'Tom', 'age': 28}, 'user3': {'name': 'Rock', 'age': 23}}\n",
      "{'name': 'John', 'age': 25}\n"
     ]
    }
   ],
   "source": [
    "# Which type of data a dictionary can store?\n",
    "# Anything ---> Number,strings, list, dict\n",
    "\n",
    "# How to add data to empty dictionary\n",
    "users_info = {\n",
    "    \"user1\":{\"name\":\"John\",\"age\":25},\n",
    "    \"user2\":{\"name\":\"Tom\",\"age\":28},\n",
    "    \"user3\":{\"name\":\"Rock\",\"age\":23}\n",
    "}  \n",
    "\n",
    "print(users_info)\n",
    "print(users_info[\"user1\"])"
   ]
  },
  {
   "cell_type": "code",
   "execution_count": 8,
   "metadata": {},
   "outputs": [
    {
     "name": "stdout",
     "output_type": "stream",
     "text": [
      "{'name': 'Darshan', 'age': 22}\n"
     ]
    }
   ],
   "source": [
    "# How to add data to empty dictionary\n",
    "user_info2 ={}\n",
    "user_info2['name']=\"Darshan\"\n",
    "user_info2[\"age\"]=22\n",
    "print(user_info2)"
   ]
  }
 ],
 "metadata": {
  "kernelspec": {
   "display_name": "base",
   "language": "python",
   "name": "python3"
  },
  "language_info": {
   "codemirror_mode": {
    "name": "ipython",
    "version": 3
   },
   "file_extension": ".py",
   "mimetype": "text/x-python",
   "name": "python",
   "nbconvert_exporter": "python",
   "pygments_lexer": "ipython3",
   "version": "3.9.13"
  }
 },
 "nbformat": 4,
 "nbformat_minor": 2
}
