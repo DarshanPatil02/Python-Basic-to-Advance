{
 "cells": [
  {
   "cell_type": "code",
   "execution_count": 1,
   "metadata": {},
   "outputs": [],
   "source": [
    "# define a function that takes a number (n)\n",
    "# return a dictionary that contains cube of number from 1 to n\n",
    "#e.g.: cube_finder(3)\n",
    "#output = {1:1,2:8,3:27}"
   ]
  },
  {
   "cell_type": "code",
   "execution_count": 2,
   "metadata": {},
   "outputs": [
    {
     "name": "stdout",
     "output_type": "stream",
     "text": [
      "{1: 1, 2: 8, 3: 27}\n"
     ]
    }
   ],
   "source": [
    "def cube_finder(n):\n",
    "    cube_dict = {}\n",
    "    for i in range(1,n+1):\n",
    "        cube_dict[i]=(i**3)\n",
    "    return cube_dict\n",
    "\n",
    "print(cube_finder(3))"
   ]
  },
  {
   "cell_type": "code",
   "execution_count": 3,
   "metadata": {},
   "outputs": [
    {
     "name": "stdout",
     "output_type": "stream",
     "text": [
      "{'D': 1, 'a': 3, 'r': 1, 's': 1, 'h': 1, 'n': 1, ' ': 1, 'P': 1, 't': 1, 'i': 1, 'l': 1}\n"
     ]
    }
   ],
   "source": [
    "# Word Counter\n",
    "def word_counter(name):\n",
    "    dt = {}\n",
    "    for i in name:\n",
    "        count = name.count(i)\n",
    "        dt[i]=count\n",
    "    return dt            \n",
    "\n",
    "print(word_counter(\"Darshan Patil\"))"
   ]
  },
  {
   "cell_type": "code",
   "execution_count": 4,
   "metadata": {},
   "outputs": [],
   "source": [
    "# Print the following dict in vertical line\n",
    "user_info ={}\n",
    "\n",
    "name = input('What is your name? ')\n",
    "age = int(input(\"What is your age? \"))\n",
    "fav_movie= input(\"Which are your favourite movie seperated by comma? \").split(',')\n",
    "fav_songs= input(\"Which are your favourite songs seperated by comma? \").split(',')"
   ]
  },
  {
   "cell_type": "code",
   "execution_count": 5,
   "metadata": {},
   "outputs": [
    {
     "name": "stdout",
     "output_type": "stream",
     "text": [
      "name : Darshan\n",
      "age : 22\n",
      "fav_movie : ['Marvel']\n",
      "fav_songs : ['Song']\n"
     ]
    }
   ],
   "source": [
    "user_info['name']=name\n",
    "user_info['age']=age\n",
    "user_info['fav_movie']=fav_movie\n",
    "user_info['fav_songs']=fav_songs\n",
    "\n",
    "for i,j in user_info.items():\n",
    "    print(i,\":\" ,j)\n"
   ]
  }
 ],
 "metadata": {
  "kernelspec": {
   "display_name": "base",
   "language": "python",
   "name": "python3"
  },
  "language_info": {
   "codemirror_mode": {
    "name": "ipython",
    "version": 3
   },
   "file_extension": ".py",
   "mimetype": "text/x-python",
   "name": "python",
   "nbconvert_exporter": "python",
   "pygments_lexer": "ipython3",
   "version": "3.9.13"
  }
 },
 "nbformat": 4,
 "nbformat_minor": 2
}
