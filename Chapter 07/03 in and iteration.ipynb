{
 "cells": [
  {
   "cell_type": "code",
   "execution_count": 1,
   "metadata": {},
   "outputs": [
    {
     "name": "stdout",
     "output_type": "stream",
     "text": [
      "{'name': 'Darshan', 'age': 22, 'fav_movie': ['coco', 'kimi no na wa'], 'fav_song': ['awakening, fairy tale']}\n"
     ]
    }
   ],
   "source": [
    "# in keyword and iteration\n",
    "user_info = {\n",
    "    \"name\":'Darshan',\n",
    "    \"age\": 22,\n",
    "    \"fav_movie\": ['coco', 'kimi no na wa'],\n",
    "    \"fav_song\":['awakening, fairy tale']\n",
    "}\n",
    "print(user_info)"
   ]
  },
  {
   "cell_type": "code",
   "execution_count": 2,
   "metadata": {},
   "outputs": [
    {
     "name": "stdout",
     "output_type": "stream",
     "text": [
      "present\n"
     ]
    }
   ],
   "source": [
    "# Check if key exist in dictionary\n",
    "if \"name\" in user_info:\n",
    "    print(\"present\")\n",
    "else:\n",
    "    print(\"Not Present\")"
   ]
  },
  {
   "cell_type": "code",
   "execution_count": 3,
   "metadata": {},
   "outputs": [
    {
     "name": "stdout",
     "output_type": "stream",
     "text": [
      "Not Present\n"
     ]
    }
   ],
   "source": [
    "if \"names\" in user_info:\n",
    "    print(\"present\")\n",
    "else:\n",
    "    print(\"Not Present\")"
   ]
  },
  {
   "cell_type": "code",
   "execution_count": 4,
   "metadata": {},
   "outputs": [
    {
     "name": "stdout",
     "output_type": "stream",
     "text": [
      "present\n"
     ]
    }
   ],
   "source": [
    "# Check if values exist in dictionary\n",
    "if \"Darshan\" in user_info.values():\n",
    "    print(\"present\")\n",
    "else:\n",
    "    print(\"Not Present\")"
   ]
  },
  {
   "cell_type": "code",
   "execution_count": 5,
   "metadata": {},
   "outputs": [
    {
     "name": "stdout",
     "output_type": "stream",
     "text": [
      "present\n"
     ]
    }
   ],
   "source": [
    "if 22 in user_info.values():\n",
    "    print(\"present\")\n",
    "else:\n",
    "    print(\"Not Present\")\n"
   ]
  },
  {
   "cell_type": "code",
   "execution_count": 6,
   "metadata": {},
   "outputs": [
    {
     "name": "stdout",
     "output_type": "stream",
     "text": [
      "name\n",
      "age\n",
      "fav_movie\n",
      "fav_song\n"
     ]
    }
   ],
   "source": [
    "# loops in dictionary\n",
    "for i in user_info:\n",
    "    print(i)  # to print keys"
   ]
  },
  {
   "cell_type": "code",
   "execution_count": 7,
   "metadata": {},
   "outputs": [
    {
     "name": "stdout",
     "output_type": "stream",
     "text": [
      "Darshan\n",
      "22\n",
      "['coco', 'kimi no na wa']\n",
      "['awakening, fairy tale']\n"
     ]
    }
   ],
   "source": [
    "for i in user_info.values():\n",
    "    print(i)  # to print values"
   ]
  },
  {
   "cell_type": "code",
   "execution_count": 8,
   "metadata": {},
   "outputs": [
    {
     "name": "stdout",
     "output_type": "stream",
     "text": [
      "dict_keys(['name', 'age', 'fav_movie', 'fav_song'])\n",
      "dict_values(['Darshan', 22, ['coco', 'kimi no na wa'], ['awakening, fairy tale']])\n"
     ]
    }
   ],
   "source": [
    "# key methods and values method\n",
    "print(user_info.keys())\n",
    "print(user_info.values())"
   ]
  },
  {
   "cell_type": "code",
   "execution_count": 9,
   "metadata": {},
   "outputs": [
    {
     "name": "stdout",
     "output_type": "stream",
     "text": [
      "dict_items([('name', 'Darshan'), ('age', 22), ('fav_movie', ['coco', 'kimi no na wa']), ('fav_song', ['awakening, fairy tale'])])\n"
     ]
    }
   ],
   "source": [
    "# items\n",
    "dict_items = user_info.items()\n",
    "print(dict_items)"
   ]
  },
  {
   "cell_type": "code",
   "execution_count": 10,
   "metadata": {},
   "outputs": [
    {
     "name": "stdout",
     "output_type": "stream",
     "text": [
      "key is name and value is Darshan\n",
      "key is age and value is 22\n",
      "key is fav_movie and value is ['coco', 'kimi no na wa']\n",
      "key is fav_song and value is ['awakening, fairy tale']\n"
     ]
    }
   ],
   "source": [
    "for key,value in user_info.items():\n",
    "    print(f\"key is {key} and value is {value}\")"
   ]
  }
 ],
 "metadata": {
  "kernelspec": {
   "display_name": "base",
   "language": "python",
   "name": "python3"
  },
  "language_info": {
   "codemirror_mode": {
    "name": "ipython",
    "version": 3
   },
   "file_extension": ".py",
   "mimetype": "text/x-python",
   "name": "python",
   "nbconvert_exporter": "python",
   "pygments_lexer": "ipython3",
   "version": "3.9.13"
  }
 },
 "nbformat": 4,
 "nbformat_minor": 2
}
