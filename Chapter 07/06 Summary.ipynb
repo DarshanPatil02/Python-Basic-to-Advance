{
 "cells": [
  {
   "cell_type": "code",
   "execution_count": 1,
   "metadata": {},
   "outputs": [],
   "source": [
    "# Summary of dictionary chapter\n",
    "#Q. what are dictionaries\n",
    "#A. unordered collections of data in key value pair."
   ]
  },
  {
   "cell_type": "code",
   "execution_count": 2,
   "metadata": {},
   "outputs": [
    {
     "name": "stdout",
     "output_type": "stream",
     "text": [
      "{'name': 'Darshan', 'Age': 22}\n"
     ]
    }
   ],
   "source": [
    "d = {\"name\": \"Darshan\",\n",
    "     'Age':22}\n",
    "\n",
    "print(d)"
   ]
  },
  {
   "cell_type": "code",
   "execution_count": 3,
   "metadata": {},
   "outputs": [
    {
     "name": "stdout",
     "output_type": "stream",
     "text": [
      "{'name': 'Darshan', 'age': 22}\n"
     ]
    }
   ],
   "source": [
    "# OR\n",
    "d = dict(name=\"Darshan\",age=22)\n",
    "print(d)"
   ]
  },
  {
   "cell_type": "code",
   "execution_count": 4,
   "metadata": {},
   "outputs": [
    {
     "name": "stdout",
     "output_type": "stream",
     "text": [
      "Darshan\n"
     ]
    }
   ],
   "source": [
    "# How to acces data from dict\n",
    "print(d['name'])"
   ]
  },
  {
   "cell_type": "code",
   "execution_count": 5,
   "metadata": {},
   "outputs": [
    {
     "name": "stdout",
     "output_type": "stream",
     "text": [
      "{'Fruit1': 'apple', 'Fruit2': 'orange', 'Fruit3': 'mango'}\n"
     ]
    }
   ],
   "source": [
    "# Add data in empty dict\n",
    "empty_dict = {}\n",
    "empty_dict['Fruit1']=\"apple\"\n",
    "empty_dict['Fruit2']=\"orange\"\n",
    "empty_dict['Fruit3']=\"mango\"\n",
    "\n",
    "print(empty_dict)"
   ]
  },
  {
   "cell_type": "code",
   "execution_count": 6,
   "metadata": {},
   "outputs": [
    {
     "name": "stdout",
     "output_type": "stream",
     "text": [
      "present\n"
     ]
    }
   ],
   "source": [
    "# Check existance of values inside dict\n",
    "if 'name' in d:\n",
    "    print(\"present\")\n",
    "else:\n",
    "    print(\"not present\")"
   ]
  },
  {
   "cell_type": "code",
   "execution_count": 7,
   "metadata": {},
   "outputs": [
    {
     "name": "stdout",
     "output_type": "stream",
     "text": [
      "name : Darshan\n",
      "age : 22\n"
     ]
    }
   ],
   "source": [
    "# How to iterate over dict\n",
    "for i,j in d.items():\n",
    "    print(i,\":\",j)"
   ]
  },
  {
   "cell_type": "code",
   "execution_count": 8,
   "metadata": {},
   "outputs": [
    {
     "name": "stdout",
     "output_type": "stream",
     "text": [
      "name\n",
      "age\n"
     ]
    }
   ],
   "source": [
    "# to print all keys\n",
    "for i in d:\n",
    "    print(i)"
   ]
  },
  {
   "cell_type": "code",
   "execution_count": 9,
   "metadata": {},
   "outputs": [
    {
     "name": "stdout",
     "output_type": "stream",
     "text": [
      "Darshan\n",
      "22\n"
     ]
    }
   ],
   "source": [
    "# to print all values\n",
    "for i in d.values():\n",
    "    print(i)"
   ]
  },
  {
   "cell_type": "code",
   "execution_count": 10,
   "metadata": {},
   "outputs": [
    {
     "name": "stdout",
     "output_type": "stream",
     "text": [
      "Darshan\n"
     ]
    }
   ],
   "source": [
    "# most common dict methods\n",
    "# to access a key or check existance\n",
    "print(d.get('name'))"
   ]
  },
  {
   "cell_type": "code",
   "execution_count": 11,
   "metadata": {},
   "outputs": [
    {
     "name": "stdout",
     "output_type": "stream",
     "text": [
      "None\n"
     ]
    }
   ],
   "source": [
    "# Q. Why we use get\n",
    "# A. To get rid of error\n",
    "# E.g: \n",
    "print(d.get(\"names\"))"
   ]
  },
  {
   "cell_type": "code",
   "execution_count": 12,
   "metadata": {},
   "outputs": [
    {
     "name": "stdout",
     "output_type": "stream",
     "text": [
      "Darshan\n"
     ]
    }
   ],
   "source": [
    "# To delete items\n",
    "# pop ---> takes one arguement which takes keyword\n",
    "\n",
    "popped = d.pop(\"name\")\n",
    "print(popped)"
   ]
  },
  {
   "cell_type": "code",
   "execution_count": 13,
   "metadata": {},
   "outputs": [
    {
     "name": "stdout",
     "output_type": "stream",
     "text": [
      "('fav_tunes', ['awakening, fairy tale'])\n",
      "{'name': 'Darshan', 'age': 22, 'fav_movie': ['coco', 'kimi no na wa']}\n"
     ]
    }
   ],
   "source": [
    "# Popped_item ---> remove any key from dict\n",
    "d = {\n",
    "    \"name\":'Darshan',\n",
    "    \"age\": 22,\n",
    "    \"fav_movie\": ['coco', 'kimi no na wa'],\n",
    "    \"fav_tunes\":['awakening, fairy tale']\n",
    "}\n",
    "\n",
    "popped_item = d.popitem()\n",
    "print(popped_item)\n",
    "print(d)"
   ]
  }
 ],
 "metadata": {
  "kernelspec": {
   "display_name": "base",
   "language": "python",
   "name": "python3"
  },
  "language_info": {
   "codemirror_mode": {
    "name": "ipython",
    "version": 3
   },
   "file_extension": ".py",
   "mimetype": "text/x-python",
   "name": "python",
   "nbconvert_exporter": "python",
   "pygments_lexer": "ipython3",
   "version": "3.9.13"
  }
 },
 "nbformat": 4,
 "nbformat_minor": 2
}
