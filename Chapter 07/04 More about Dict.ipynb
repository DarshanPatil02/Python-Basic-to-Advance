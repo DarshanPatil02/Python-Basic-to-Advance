{
 "cells": [
  {
   "cell_type": "code",
   "execution_count": 1,
   "metadata": {},
   "outputs": [
    {
     "name": "stdout",
     "output_type": "stream",
     "text": [
      "{'name': 'unknown', 'age': 'unknown'}\n"
     ]
    }
   ],
   "source": [
    "# fromkeys  ---> if we want to set same values for multiple keys\n",
    "\n",
    "d = {'name':\"unknown\",'age':'unknown'}\n",
    "print(d)"
   ]
  },
  {
   "cell_type": "code",
   "execution_count": 2,
   "metadata": {},
   "outputs": [
    {
     "name": "stdout",
     "output_type": "stream",
     "text": [
      "{'name': 'unknown', 'age': 'unknown', 'height': 'unknown'}\n",
      "{'name': 'unknown', 'age': 'unknown', 'height': 'unknown'}\n",
      "{'a': 'unknown', 'b': 'unknown', 'c': 'unknown'}\n",
      "{1: 'unknown', 2: 'unknown', 3: 'unknown', 4: 'unknown', 5: 'unknown', 6: 'unknown', 7: 'unknown', 8: 'unknown', 9: 'unknown', 10: 'unknown'}\n",
      "{'name': ('unknown', 'known'), 'age': ('unknown', 'known')}\n"
     ]
    }
   ],
   "source": [
    "# By using fromkeys\n",
    "d1 = dict.fromkeys([\"name\",'age','height'],'unknown')\n",
    "print(d1)\n",
    "\n",
    "d2 = dict.fromkeys((\"name\",'age','height'),'unknown')\n",
    "print(d2)\n",
    "\n",
    "d3 = dict.fromkeys(\"abc\",'unknown')\n",
    "print(d3)\n",
    "\n",
    "d4 = dict.fromkeys(range(1,11),'unknown')\n",
    "print(d4)\n",
    "\n",
    "d5 = dict.fromkeys((\"name\",\"age\"),('unknown',\"known\"))\n",
    "print(d5)"
   ]
  },
  {
   "cell_type": "code",
   "execution_count": 5,
   "metadata": {},
   "outputs": [
    {
     "name": "stdout",
     "output_type": "stream",
     "text": [
      "Darshan\n"
     ]
    },
    {
     "ename": "KeyError",
     "evalue": "'names'",
     "output_type": "error",
     "traceback": [
      "\u001b[1;31m---------------------------------------------------------------------------\u001b[0m",
      "\u001b[1;31mKeyError\u001b[0m                                  Traceback (most recent call last)",
      "\u001b[1;32m~\\AppData\\Local\\Temp\\ipykernel_14712\\227628885.py\u001b[0m in \u001b[0;36m<module>\u001b[1;34m\u001b[0m\n\u001b[0;32m      5\u001b[0m }\n\u001b[0;32m      6\u001b[0m \u001b[0mprint\u001b[0m\u001b[1;33m(\u001b[0m\u001b[0muser_info\u001b[0m\u001b[1;33m[\u001b[0m\u001b[1;34m'name'\u001b[0m\u001b[1;33m]\u001b[0m\u001b[1;33m)\u001b[0m \u001b[1;31m#--> output as \"Darshan\"\u001b[0m\u001b[1;33m\u001b[0m\u001b[1;33m\u001b[0m\u001b[0m\n\u001b[1;32m----> 7\u001b[1;33m \u001b[0mprint\u001b[0m\u001b[1;33m(\u001b[0m\u001b[0muser_info\u001b[0m\u001b[1;33m[\u001b[0m\u001b[1;34m'names'\u001b[0m\u001b[1;33m]\u001b[0m\u001b[1;33m)\u001b[0m \u001b[1;31m#--> no output raise error because it doesn't have names key\u001b[0m\u001b[1;33m\u001b[0m\u001b[1;33m\u001b[0m\u001b[0m\n\u001b[0m",
      "\u001b[1;31mKeyError\u001b[0m: 'names'"
     ]
    }
   ],
   "source": [
    "# get method\n",
    "user_info = {\n",
    "    \"name\":'Darshan',\n",
    "    \"age\": 22\n",
    "}\n",
    "print(user_info['name']) #--> output as \"Darshan\"\n",
    "print(user_info['names']) #--> no output raise error because it doesn't have names key"
   ]
  },
  {
   "cell_type": "code",
   "execution_count": 6,
   "metadata": {},
   "outputs": [
    {
     "name": "stdout",
     "output_type": "stream",
     "text": [
      "Darshan\n",
      "None\n"
     ]
    }
   ],
   "source": [
    "print(user_info.get(\"name\")) #--> output as \"Darshan\"\n",
    "print(user_info.get('names')) #--> output is none, not raise error even it doesn't have names key"
   ]
  },
  {
   "cell_type": "code",
   "execution_count": 7,
   "metadata": {},
   "outputs": [
    {
     "name": "stdout",
     "output_type": "stream",
     "text": [
      "Darshan\n",
      "not found!\n"
     ]
    }
   ],
   "source": [
    "# Some more about get\n",
    "dt = {\n",
    "    \"name\":'Darshan',\n",
    "    \"age\": 22}\n",
    "print(dt.get(\"name\",\"not found!\"))\n",
    "print(dt.get(\"names\",\"not found!\")) # insted of None it returns not found!"
   ]
  },
  {
   "cell_type": "code",
   "execution_count": 8,
   "metadata": {},
   "outputs": [
    {
     "name": "stdout",
     "output_type": "stream",
     "text": [
      "present\n",
      "{}\n"
     ]
    }
   ],
   "source": [
    "if d.get('name'):\n",
    "    print(\"present\")\n",
    "else:\n",
    "    print(\"Not present\")\n",
    "\n",
    "\n",
    "# Clear ---> to clear dict\n",
    "d.clear()\n",
    "print(d)"
   ]
  },
  {
   "cell_type": "code",
   "execution_count": 9,
   "metadata": {},
   "outputs": [
    {
     "name": "stdout",
     "output_type": "stream",
     "text": [
      "Darshan\n",
      "{'age': 22}\n",
      "{'name': 'Darshan', 'age': 22}\n"
     ]
    }
   ],
   "source": [
    "# copy  ---> to create copy of originl\n",
    "user_info1 = user_info.copy()\n",
    "print(user_info1.pop(\"name\"))\n",
    "print(user_info1)\n",
    "print(user_info)"
   ]
  },
  {
   "cell_type": "code",
   "execution_count": 10,
   "metadata": {},
   "outputs": [
    {
     "name": "stdout",
     "output_type": "stream",
     "text": [
      "Darshan\n",
      "{'age': 22}\n",
      "{'age': 22}\n"
     ]
    }
   ],
   "source": [
    "# if we do like user_info1=user_info then if we do changes in one it will reflect in other\n",
    "user_info = {\n",
    "    \"name\":'Darshan',\n",
    "    \"age\": 22,\n",
    "}\n",
    "user_info1 = user_info\n",
    "print(user_info1.pop(\"name\"))\n",
    "print(user_info1)\n",
    "print(user_info)\n"
   ]
  }
 ],
 "metadata": {
  "kernelspec": {
   "display_name": "base",
   "language": "python",
   "name": "python3"
  },
  "language_info": {
   "codemirror_mode": {
    "name": "ipython",
    "version": 3
   },
   "file_extension": ".py",
   "mimetype": "text/x-python",
   "name": "python",
   "nbconvert_exporter": "python",
   "pygments_lexer": "ipython3",
   "version": "3.9.13"
  }
 },
 "nbformat": 4,
 "nbformat_minor": 2
}
