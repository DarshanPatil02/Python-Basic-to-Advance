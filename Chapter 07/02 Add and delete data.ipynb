{
 "cells": [
  {
   "cell_type": "code",
   "execution_count": 1,
   "metadata": {},
   "outputs": [
    {
     "name": "stdout",
     "output_type": "stream",
     "text": [
      "{'name': 'Darshan', 'age': 22, 'fav_movie': ['coco', 'kimi no na wa'], 'fav_tunes': ['awakening, fairy tale']}\n"
     ]
    }
   ],
   "source": [
    "# add and delete data\n",
    "user_info = {\n",
    "    \"name\":'Darshan',\n",
    "    \"age\": 22,\n",
    "    \"fav_movie\": ['coco', 'kimi no na wa'],\n",
    "    \"fav_tunes\":['awakening, fairy tale']\n",
    "}\n",
    "print(user_info)"
   ]
  },
  {
   "cell_type": "code",
   "execution_count": 2,
   "metadata": {},
   "outputs": [
    {
     "name": "stdout",
     "output_type": "stream",
     "text": [
      "{'name': 'Darshan', 'age': 22, 'fav_movie': ['coco', 'kimi no na wa'], 'fav_tunes': ['awakening, fairy tale'], 'fav_song': ['song1', 'song2']}\n"
     ]
    }
   ],
   "source": [
    "# how to add data\n",
    "user_info[\"fav_song\"]=[\"song1\",\"song2\"]\n",
    "print(user_info)"
   ]
  },
  {
   "cell_type": "code",
   "execution_count": 3,
   "metadata": {},
   "outputs": [
    {
     "name": "stdout",
     "output_type": "stream",
     "text": [
      "popped items is ['awakening, fairy tale']\n",
      "{'name': 'Darshan', 'age': 22, 'fav_movie': ['coco', 'kimi no na wa'], 'fav_song': ['song1', 'song2']}\n"
     ]
    }
   ],
   "source": [
    "# how to delete data\n",
    "popped_items = user_info.pop(\"fav_tunes\")\n",
    "print(f\"popped items is {popped_items}\")\n",
    "print(user_info)"
   ]
  },
  {
   "cell_type": "code",
   "execution_count": 4,
   "metadata": {},
   "outputs": [
    {
     "name": "stdout",
     "output_type": "stream",
     "text": [
      "('fav_song', ['song1', 'song2'])\n",
      "{'name': 'Darshan', 'age': 22, 'fav_movie': ['coco', 'kimi no na wa']}\n"
     ]
    }
   ],
   "source": [
    "# popitem method\n",
    "popped_item = user_info.popitem()\n",
    "print(popped_item)\n",
    "print(user_info)"
   ]
  }
 ],
 "metadata": {
  "kernelspec": {
   "display_name": "base",
   "language": "python",
   "name": "python3"
  },
  "language_info": {
   "codemirror_mode": {
    "name": "ipython",
    "version": 3
   },
   "file_extension": ".py",
   "mimetype": "text/x-python",
   "name": "python",
   "nbconvert_exporter": "python",
   "pygments_lexer": "ipython3",
   "version": "3.9.13"
  }
 },
 "nbformat": 4,
 "nbformat_minor": 2
}
