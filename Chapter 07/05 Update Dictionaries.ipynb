{
 "cells": [
  {
   "cell_type": "code",
   "execution_count": 1,
   "metadata": {},
   "outputs": [
    {
     "name": "stdout",
     "output_type": "stream",
     "text": [
      "{'name': 'Darshan', 'age': 22, 'fav_movie': ['coco', 'kimi no na wa'], 'fav_tunes': ['awakening, fairy tale']}\n"
     ]
    }
   ],
   "source": [
    "user_info = {\n",
    "    \"name\":'Darshan',\n",
    "    \"age\": 22,\n",
    "    \"fav_movie\": ['coco', 'kimi no na wa'],\n",
    "    \"fav_tunes\":['awakening, fairy tale']\n",
    "}\n",
    "print(user_info)\n",
    "\n",
    "more_info = {\"State\":\"Maharashtra\",\"hobbies\":[\"coding\",\"reading\",\"playing\"]}"
   ]
  },
  {
   "cell_type": "code",
   "execution_count": 2,
   "metadata": {},
   "outputs": [
    {
     "name": "stdout",
     "output_type": "stream",
     "text": [
      "{'name': 'Darshan', 'age': 22, 'fav_movie': ['coco', 'kimi no na wa'], 'fav_tunes': ['awakening, fairy tale'], 'State': 'Maharashtra', 'hobbies': ['coding', 'reading', 'playing']}\n"
     ]
    }
   ],
   "source": [
    "# update\n",
    "user_info.update(more_info)\n",
    "print(user_info)"
   ]
  },
  {
   "cell_type": "code",
   "execution_count": 3,
   "metadata": {},
   "outputs": [
    {
     "name": "stdout",
     "output_type": "stream",
     "text": [
      "{'name': 'Darshan', 'age': 22, 'fav_movie': ['coco', 'kimi no na wa'], 'fav_tunes': ['awakening, fairy tale'], 'State': 'Maharashtra', 'hobbies': ['coding', 'reading', 'playing']}\n",
      "{'name': 'Darshan Patil', 'age': 22, 'fav_movie': ['coco', 'kimi no na wa'], 'fav_tunes': ['awakening, fairy tale'], 'State': 'Maharashtra', 'hobbies': ['coding', 'reading', 'playing']}\n"
     ]
    }
   ],
   "source": [
    "# update also update previous data\n",
    "more_info = {\"name\":\"Darshan Patil\",\"State\":\"Maharashtra\",\"hobbies\":[\"coding\",\"reading\",\"playing\"]}\n",
    "print(user_info)\n",
    "user_info.update(more_info)\n",
    "print(user_info)"
   ]
  }
 ],
 "metadata": {
  "kernelspec": {
   "display_name": "base",
   "language": "python",
   "name": "python3"
  },
  "language_info": {
   "codemirror_mode": {
    "name": "ipython",
    "version": 3
   },
   "file_extension": ".py",
   "mimetype": "text/x-python",
   "name": "python",
   "nbconvert_exporter": "python",
   "pygments_lexer": "ipython3",
   "version": "3.9.13"
  }
 },
 "nbformat": 4,
 "nbformat_minor": 2
}
