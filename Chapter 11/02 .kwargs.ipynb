{
 "cells": [
  {
   "cell_type": "code",
   "execution_count": 1,
   "metadata": {},
   "outputs": [],
   "source": [
    "# kwargs (keyword arguement)\n",
    "# **kwargs (double star operators)"
   ]
  },
  {
   "cell_type": "code",
   "execution_count": 2,
   "metadata": {},
   "outputs": [
    {
     "name": "stdout",
     "output_type": "stream",
     "text": [
      "{'first_name': 'Darshan', 'last_name': 'Patil'}\n",
      "<class 'dict'>\n",
      "None\n"
     ]
    }
   ],
   "source": [
    "# kwargs as a parameter\n",
    "def func(**kwargs):\n",
    "    print(kwargs)\n",
    "    print(type(kwargs))\n",
    "\n",
    "print(func(first_name=\"Darshan\",last_name=\"Patil\" ))"
   ]
  },
  {
   "cell_type": "code",
   "execution_count": 3,
   "metadata": {},
   "outputs": [
    {
     "name": "stdout",
     "output_type": "stream",
     "text": [
      "name:Darshan\n",
      "age:22\n",
      "fav_movie:['coco', 'kimi no na wa']\n",
      "fav_tunes:['awakening, fairy tale']\n",
      "None\n"
     ]
    }
   ],
   "source": [
    "# Unpacking dictionaries\n",
    "\n",
    "d = {\n",
    "    \"name\":'Darshan',\n",
    "    \"age\": 22,\n",
    "    \"fav_movie\": ['coco', 'kimi no na wa'],\n",
    "    \"fav_tunes\":['awakening, fairy tale']\n",
    "}\n",
    "\n",
    "def function_dict(**kwargs):\n",
    "    for k,v in kwargs.items():\n",
    "        print(f\"{k}:{v}\")\n",
    "\n",
    "print(function_dict(**d))\n",
    "\n"
   ]
  }
 ],
 "metadata": {
  "kernelspec": {
   "display_name": "base",
   "language": "python",
   "name": "python3"
  },
  "language_info": {
   "codemirror_mode": {
    "name": "ipython",
    "version": 3
   },
   "file_extension": ".py",
   "mimetype": "text/x-python",
   "name": "python",
   "nbconvert_exporter": "python",
   "pygments_lexer": "ipython3",
   "version": "3.9.13"
  }
 },
 "nbformat": 4,
 "nbformat_minor": 2
}
