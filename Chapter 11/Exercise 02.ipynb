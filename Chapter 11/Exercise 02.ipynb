{
 "cells": [
  {
   "cell_type": "code",
   "execution_count": 1,
   "metadata": {},
   "outputs": [],
   "source": [
    "# function\n",
    "# list, reverse = True"
   ]
  },
  {
   "cell_type": "code",
   "execution_count": 2,
   "metadata": {},
   "outputs": [
    {
     "name": "stdout",
     "output_type": "stream",
     "text": [
      "['Darshan', 'Patil']\n",
      "['Nahsrad', 'Litap']\n"
     ]
    }
   ],
   "source": [
    "def func(l,**kwargs):\n",
    "    if kwargs.get(\"reverse_str\")==True:\n",
    "        return [name[::-1].title() for name in l]\n",
    "    else:\n",
    "        return [name.title() for name in l]\n",
    "\n",
    "\n",
    "names = [\"darshan\",\"patil\"]\n",
    "print(func(names))\n",
    "\n",
    "print(func(names, reverse_str=True))"
   ]
  }
 ],
 "metadata": {
  "kernelspec": {
   "display_name": "base",
   "language": "python",
   "name": "python3"
  },
  "language_info": {
   "codemirror_mode": {
    "name": "ipython",
    "version": 3
   },
   "file_extension": ".py",
   "mimetype": "text/x-python",
   "name": "python",
   "nbconvert_exporter": "python",
   "pygments_lexer": "ipython3",
   "version": "3.9.13"
  }
 },
 "nbformat": 4,
 "nbformat_minor": 2
}
