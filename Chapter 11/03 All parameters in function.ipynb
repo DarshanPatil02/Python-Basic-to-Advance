{
 "cells": [
  {
   "cell_type": "code",
   "execution_count": 1,
   "metadata": {},
   "outputs": [],
   "source": [
    "# function with all parameters\n",
    "# very important to understand\n",
    "\n",
    "# PADK\n",
    "\n",
    "# Parameters\n",
    "# *args\n",
    "# Default Parameters\n",
    "# **kwargs"
   ]
  },
  {
   "cell_type": "code",
   "execution_count": 2,
   "metadata": {},
   "outputs": [
    {
     "name": "stdout",
     "output_type": "stream",
     "text": [
      "Darshan\n",
      "((1, 2, 3),)\n",
      "unknown\n",
      "{'a': 'Joy', 'b': 'fun'}\n",
      "None\n"
     ]
    }
   ],
   "source": [
    "def all_par_func(name,*args,last_name=\"unknown\",**kwargs):\n",
    "    print(name)\n",
    "    print(args)\n",
    "    print(last_name)\n",
    "    print(kwargs)\n",
    "\n",
    "print(all_par_func(\"Darshan\",(1,2,3),a=\"Joy\",b=\"fun\"))"
   ]
  }
 ],
 "metadata": {
  "kernelspec": {
   "display_name": "base",
   "language": "python",
   "name": "python3"
  },
  "language_info": {
   "codemirror_mode": {
    "name": "ipython",
    "version": 3
   },
   "file_extension": ".py",
   "mimetype": "text/x-python",
   "name": "python",
   "nbconvert_exporter": "python",
   "pygments_lexer": "ipython3",
   "version": "3.9.13"
  }
 },
 "nbformat": 4,
 "nbformat_minor": 2
}
