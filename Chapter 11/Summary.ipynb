{
 "cells": [
  {
   "cell_type": "code",
   "execution_count": 1,
   "metadata": {},
   "outputs": [],
   "source": [
    "# *operators\n",
    "# *args"
   ]
  },
  {
   "cell_type": "code",
   "execution_count": 2,
   "metadata": {},
   "outputs": [
    {
     "data": {
      "text/plain": [
       "20"
      ]
     },
     "execution_count": 2,
     "metadata": {},
     "output_type": "execute_result"
    }
   ],
   "source": [
    "def total_in_x(x,*args): # in this case first x is as parameter and remaining are tuple\n",
    "    total=x\n",
    "    for i in args:\n",
    "        total+=i\n",
    "    return total\n",
    "\n",
    "total_in_x(5,1,2,3,4,5)"
   ]
  },
  {
   "cell_type": "code",
   "execution_count": 3,
   "metadata": {},
   "outputs": [],
   "source": [
    "# args as arguement\n",
    "\n",
    "def multiply_function(*args):\n",
    "    multiply=1\n",
    "    for i in args:\n",
    "        multiply*=i\n",
    "    return multiply"
   ]
  },
  {
   "cell_type": "code",
   "execution_count": 4,
   "metadata": {},
   "outputs": [
    {
     "name": "stdout",
     "output_type": "stream",
     "text": [
      "[2, 5, 6]\n",
      "60\n"
     ]
    }
   ],
   "source": [
    "# lets create a list nums\n",
    "nums = [2,5,6]\n",
    "# if we pass list to function it will return an unexpected output i.e., list\n",
    "print(multiply_function(nums))\n",
    "# to get a required output put a command as follow\n",
    "print(multiply_function(*nums)) # it will unpack list given"
   ]
  },
  {
   "cell_type": "code",
   "execution_count": 5,
   "metadata": {},
   "outputs": [
    {
     "name": "stdout",
     "output_type": "stream",
     "text": [
      "Darshan\n",
      "((1, 2, 3),)\n",
      "unknown\n",
      "{'a': 'Joy', 'b': 'fun'}\n",
      "None\n"
     ]
    }
   ],
   "source": [
    "# function with all parameters\n",
    "# PADK\n",
    "def all_par_func(name,*args,last_name=\"unknown\",**kwargs):\n",
    "    print(name)\n",
    "    print(args)\n",
    "    print(last_name)\n",
    "    print(kwargs)\n",
    "\n",
    "print(all_par_func(\"Darshan\",(1,2,3),a=\"Joy\",b=\"fun\"))"
   ]
  }
 ],
 "metadata": {
  "kernelspec": {
   "display_name": "base",
   "language": "python",
   "name": "python3"
  },
  "language_info": {
   "codemirror_mode": {
    "name": "ipython",
    "version": 3
   },
   "file_extension": ".py",
   "mimetype": "text/x-python",
   "name": "python",
   "nbconvert_exporter": "python",
   "pygments_lexer": "ipython3",
   "version": "3.9.13"
  }
 },
 "nbformat": 4,
 "nbformat_minor": 2
}
