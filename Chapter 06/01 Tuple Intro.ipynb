{
 "cells": [
  {
   "cell_type": "code",
   "execution_count": 1,
   "metadata": {},
   "outputs": [],
   "source": [
    "# tuple data structure\n",
    "# tuple can store any data type\n",
    "# most important tuples are immutable, once tuple is create you can't update\n",
    "# data inside tuple\n",
    "\n",
    "example = (\"one\",\"two\",\"three\")\n",
    "# No append, no insert, no pop, no remove\n",
    "# tuples are faster than lists\n",
    "\n",
    "# Methods\n",
    "# ---> count, index\n",
    "# ---> len function\n",
    "# ---> slicing\n"
   ]
  }
 ],
 "metadata": {
  "kernelspec": {
   "display_name": "base",
   "language": "python",
   "name": "python3"
  },
  "language_info": {
   "codemirror_mode": {
    "name": "ipython",
    "version": 3
   },
   "file_extension": ".py",
   "mimetype": "text/x-python",
   "name": "python",
   "nbconvert_exporter": "python",
   "pygments_lexer": "ipython3",
   "version": "3.9.13"
  }
 },
 "nbformat": 4,
 "nbformat_minor": 2
}
