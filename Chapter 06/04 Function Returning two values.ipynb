{
 "cells": [
  {
   "cell_type": "code",
   "execution_count": 1,
   "metadata": {},
   "outputs": [
    {
     "name": "stdout",
     "output_type": "stream",
     "text": [
      "(17, 60)\n"
     ]
    }
   ],
   "source": [
    "# function returning two values in the form of tuple\n",
    "def func(num1,num2):\n",
    "    add = num1+num2\n",
    "    multiply = num1*num2\n",
    "    return add, multiply\n",
    "\n",
    "print(func(5,12)) # It return two values in the form of tuple"
   ]
  },
  {
   "cell_type": "code",
   "execution_count": 2,
   "metadata": {},
   "outputs": [
    {
     "name": "stdout",
     "output_type": "stream",
     "text": [
      "17\n",
      "60\n"
     ]
    }
   ],
   "source": [
    "# to obtain that values individually\n",
    "addition,multiplication = func(5,12)\n",
    "print(addition)\n",
    "print(multiplication)\n"
   ]
  }
 ],
 "metadata": {
  "kernelspec": {
   "display_name": "base",
   "language": "python",
   "name": "python3"
  },
  "language_info": {
   "codemirror_mode": {
    "name": "ipython",
    "version": 3
   },
   "file_extension": ".py",
   "mimetype": "text/x-python",
   "name": "python",
   "nbconvert_exporter": "python",
   "pygments_lexer": "ipython3",
   "version": "3.9.13"
  }
 },
 "nbformat": 4,
 "nbformat_minor": 2
}
