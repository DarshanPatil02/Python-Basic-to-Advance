{
 "cells": [
  {
   "cell_type": "code",
   "execution_count": 1,
   "metadata": {},
   "outputs": [],
   "source": [
    "# # tuples\n",
    "# tuples are immutable\n",
    "# tuples are ordered collection of data \n",
    "# tuples can store any data type\n",
    "# you cannot change(add or delete) values from tuple once it create\n",
    "# but you can change in list present inside tuple\n",
    "\n",
    "mixed = (1,2,3,4,5,'six')\n"
   ]
  },
  {
   "cell_type": "code",
   "execution_count": 2,
   "metadata": {},
   "outputs": [
    {
     "name": "stdout",
     "output_type": "stream",
     "text": [
      "(1, 2, 3, 4, 5, [6, 7])\n"
     ]
    }
   ],
   "source": [
    "# No append, no insert, no pop, no remove\n",
    "# Only count and index\n",
    "\n",
    "# functions\n",
    "# min(), max(), sum(), len()\n",
    "\n",
    "mixed2 = (1,2,3,4,5,[6,7,8])\n",
    "mixed2[5].pop()\n",
    "print(mixed2)"
   ]
  }
 ],
 "metadata": {
  "kernelspec": {
   "display_name": "base",
   "language": "python",
   "name": "python3"
  },
  "language_info": {
   "codemirror_mode": {
    "name": "ipython",
    "version": 3
   },
   "file_extension": ".py",
   "mimetype": "text/x-python",
   "name": "python",
   "nbconvert_exporter": "python",
   "pygments_lexer": "ipython3",
   "version": "3.9.13"
  }
 },
 "nbformat": 4,
 "nbformat_minor": 2
}
