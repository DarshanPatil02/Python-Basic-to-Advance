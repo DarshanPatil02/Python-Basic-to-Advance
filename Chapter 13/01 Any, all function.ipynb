{
 "cells": [
  {
   "cell_type": "code",
   "execution_count": 1,
   "metadata": {},
   "outputs": [],
   "source": [
    "# any, all function\n",
    "\n",
    "number1 = [2,4,6,8,10]\n",
    "number2 = [1,2,3,4,5,6]"
   ]
  },
  {
   "cell_type": "code",
   "execution_count": 2,
   "metadata": {},
   "outputs": [
    {
     "name": "stdout",
     "output_type": "stream",
     "text": [
      "[True, True, True, True, True]\n"
     ]
    }
   ],
   "source": [
    "evens1 = []\n",
    "for num in number1:\n",
    "    evens1.append(num%2==0)\n",
    "\n",
    "print(evens1)"
   ]
  },
  {
   "cell_type": "code",
   "execution_count": 3,
   "metadata": {},
   "outputs": [
    {
     "name": "stdout",
     "output_type": "stream",
     "text": [
      "[False, True, False, True, False, True]\n"
     ]
    }
   ],
   "source": [
    "evens2 = []\n",
    "for num in number2:\n",
    "    evens2.append(num%2==0)\n",
    "print(evens2)"
   ]
  },
  {
   "cell_type": "code",
   "execution_count": 4,
   "metadata": {},
   "outputs": [
    {
     "name": "stdout",
     "output_type": "stream",
     "text": [
      "True\n",
      "True\n",
      "False\n"
     ]
    }
   ],
   "source": [
    "# all function is used to check all values in list are True or not\n",
    "print(all([True,True,True,True,True]))\n",
    "\n",
    "print(all([nums%2==0 for nums in number1]))\n",
    "print(all([nums%2==0 for nums in number2]))"
   ]
  },
  {
   "cell_type": "code",
   "execution_count": 5,
   "metadata": {},
   "outputs": [
    {
     "name": "stdout",
     "output_type": "stream",
     "text": [
      "True\n",
      "True\n"
     ]
    }
   ],
   "source": [
    "# any function is used to check any values in list are True or not \n",
    "print(any([nums%2==0 for nums in number1]))\n",
    "print(any([nums%2==0 for nums in number2]))"
   ]
  },
  {
   "cell_type": "code",
   "execution_count": 6,
   "metadata": {},
   "outputs": [
    {
     "name": "stdout",
     "output_type": "stream",
     "text": [
      "Wrong Input\n",
      "18.9\n"
     ]
    }
   ],
   "source": [
    "def my_sum(*args):\n",
    "    # args = []\n",
    "    if all([(type(arg)==float or type(arg)==int) for arg in args]):\n",
    "        total=0\n",
    "        for num in args:\n",
    "            total+=num\n",
    "        return total\n",
    "    else:\n",
    "        return \"Wrong Input\"\n",
    "    \n",
    "print(my_sum(1,2,3,4,8.9,\"Darshan\",[\"Darshan\"]))\n",
    "print(my_sum(1,2,3,4,8.9))\n"
   ]
  }
 ],
 "metadata": {
  "kernelspec": {
   "display_name": "base",
   "language": "python",
   "name": "python3"
  },
  "language_info": {
   "codemirror_mode": {
    "name": "ipython",
    "version": 3
   },
   "file_extension": ".py",
   "mimetype": "text/x-python",
   "name": "python",
   "nbconvert_exporter": "python",
   "pygments_lexer": "ipython3",
   "version": "3.9.13"
  }
 },
 "nbformat": 4,
 "nbformat_minor": 2
}
