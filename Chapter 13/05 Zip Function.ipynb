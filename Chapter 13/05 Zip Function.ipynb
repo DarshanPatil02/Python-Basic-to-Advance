{
 "cells": [
  {
   "cell_type": "code",
   "execution_count": 1,
   "metadata": {},
   "outputs": [
    {
     "name": "stdout",
     "output_type": "stream",
     "text": [
      "[('user1', 'Rohit'), ('user2', 'Mohit'), ('user3', 'Vinit')]\n"
     ]
    }
   ],
   "source": [
    "# Zip function\n",
    "\n",
    "user_id = [\"user1\",\"user2\",\"user3\"]\n",
    "names = ['Rohit','Mohit',\"Vinit\"]\n",
    "\n",
    "print(list(zip(user_id,names)))"
   ]
  },
  {
   "cell_type": "code",
   "execution_count": 2,
   "metadata": {},
   "outputs": [
    {
     "name": "stdout",
     "output_type": "stream",
     "text": [
      "[('user1', 'Rohit'), ('user2', 'Mohit')]\n"
     ]
    }
   ],
   "source": [
    "user_id = [\"user1\",\"user2\"]\n",
    "names = ['Rohit','Mohit',\"Vinit\"]\n",
    "\n",
    "print(list(zip(user_id,names)))"
   ]
  },
  {
   "cell_type": "code",
   "execution_count": 3,
   "metadata": {},
   "outputs": [
    {
     "name": "stdout",
     "output_type": "stream",
     "text": [
      "{'a': 1, 'b': 2}\n"
     ]
    }
   ],
   "source": [
    "examples = [(\"a\",1),(\"b\",2)]\n",
    "print(dict(examples))"
   ]
  },
  {
   "cell_type": "code",
   "execution_count": 4,
   "metadata": {},
   "outputs": [
    {
     "name": "stdout",
     "output_type": "stream",
     "text": [
      "[('user1', 'Rohit', 'Sharma'), ('user2', 'Mohit', 'Modi'), ('user3', 'Vinit', 'Shah')]\n"
     ]
    }
   ],
   "source": [
    "user_id = [\"user1\",\"user2\",\"user3\"]\n",
    "names = ['Rohit','Mohit',\"Vinit\"]\n",
    "last_name = ['Sharma',\"Modi\",\"Shah\"]\n",
    "print(list(zip(user_id,names,last_name)))"
   ]
  },
  {
   "cell_type": "code",
   "execution_count": 5,
   "metadata": {},
   "outputs": [
    {
     "name": "stdout",
     "output_type": "stream",
     "text": [
      "(1, 3, 5, 7)\n",
      "(2, 4, 6, 8)\n"
     ]
    }
   ],
   "source": [
    "# Zip unpacking\n",
    "l = [(1,2),(3,4),(5,6),(7,8)]\n",
    "l1,l2 = list(zip(*l))\n",
    "print(l1)\n",
    "print(l2)"
   ]
  },
  {
   "cell_type": "code",
   "execution_count": 6,
   "metadata": {},
   "outputs": [
    {
     "name": "stdout",
     "output_type": "stream",
     "text": [
      "[2, 4, 6, 8]\n"
     ]
    }
   ],
   "source": [
    "# Find max from tuple pairs\n",
    "new_list = []\n",
    "for pair in zip(l1,l2):\n",
    "    new_list.append(max(pair))\n",
    "    \n",
    "print(new_list)\n"
   ]
  }
 ],
 "metadata": {
  "kernelspec": {
   "display_name": "base",
   "language": "python",
   "name": "python3"
  },
  "language_info": {
   "codemirror_mode": {
    "name": "ipython",
    "version": 3
   },
   "file_extension": ".py",
   "mimetype": "text/x-python",
   "name": "python",
   "nbconvert_exporter": "python",
   "pygments_lexer": "ipython3",
   "version": "3.9.13"
  }
 },
 "nbformat": 4,
 "nbformat_minor": 2
}
