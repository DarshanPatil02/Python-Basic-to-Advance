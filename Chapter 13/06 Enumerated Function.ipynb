{
 "cells": [
  {
   "cell_type": "code",
   "execution_count": 1,
   "metadata": {},
   "outputs": [],
   "source": [
    "# Enumerated Function\n",
    "# We use enumerated function with for loop to track position of our item in iterable "
   ]
  },
  {
   "cell_type": "code",
   "execution_count": 2,
   "metadata": {},
   "outputs": [
    {
     "name": "stdout",
     "output_type": "stream",
     "text": [
      "0 --- abc\n",
      "1 --- xyz\n",
      "2 --- Darshan\n"
     ]
    }
   ],
   "source": [
    "# How we do this without enumerated function\n",
    "names = [\"abc\",\"xyz\",\"Darshan\"]\n",
    "# Expected Output\n",
    "\"\"\"\n",
    "0 --abc\n",
    "1 --xyz\n",
    "2 --Darshan\n",
    "\"\"\"\n",
    "pos=0\n",
    "for i in names:\n",
    "    print(f\"{pos} --- {i}\")\n",
    "    pos+=1"
   ]
  },
  {
   "cell_type": "code",
   "execution_count": 3,
   "metadata": {},
   "outputs": [
    {
     "name": "stdout",
     "output_type": "stream",
     "text": [
      "0 --- abc\n",
      "1 --- xyz\n",
      "2 --- Darshan\n"
     ]
    }
   ],
   "source": [
    "# With enumerated function\n",
    "for position,name in enumerate(names):\n",
    "    print (f\"{position} --- {name}\")"
   ]
  },
  {
   "cell_type": "code",
   "execution_count": 4,
   "metadata": {},
   "outputs": [],
   "source": [
    "# Define a function that takes two arguement\n",
    "# 1.) string containing list\n",
    "# 2.) string that want to find in and this function will return the index of string in your list\n",
    "# and if the string is not present return -1"
   ]
  },
  {
   "cell_type": "code",
   "execution_count": 5,
   "metadata": {},
   "outputs": [],
   "source": [
    "def position_finder(ls,target):\n",
    "    for pos,string in enumerate(ls):\n",
    "        if string==target:\n",
    "            return pos\n",
    "    return -1\n",
    "        \n",
    "ls = [\"abc\",\"xyz\",\"Darshan\"] "
   ]
  },
  {
   "cell_type": "code",
   "execution_count": 6,
   "metadata": {},
   "outputs": [
    {
     "name": "stdout",
     "output_type": "stream",
     "text": [
      "2\n",
      "-1\n"
     ]
    }
   ],
   "source": [
    "print(position_finder(ls, \"Darshan\"))\n",
    "\n",
    "print(position_finder(ls, \"abc1\"))\n"
   ]
  }
 ],
 "metadata": {
  "kernelspec": {
   "display_name": "base",
   "language": "python",
   "name": "python3"
  },
  "language_info": {
   "codemirror_mode": {
    "name": "ipython",
    "version": 3
   },
   "file_extension": ".py",
   "mimetype": "text/x-python",
   "name": "python",
   "nbconvert_exporter": "python",
   "pygments_lexer": "ipython3",
   "version": "3.9.13"
  }
 },
 "nbformat": 4,
 "nbformat_minor": 2
}
