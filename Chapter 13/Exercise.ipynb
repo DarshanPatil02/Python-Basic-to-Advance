{
 "cells": [
  {
   "cell_type": "code",
   "execution_count": 1,
   "metadata": {},
   "outputs": [],
   "source": [
    "# Define a function take any no of list containing numbers\n",
    "# [1,2,3],[4,5,6],[7,8,9]\n",
    "# return average \n",
    "# (1,4,7)/3, (2,5,8)/3, (3,6,9)/3"
   ]
  },
  {
   "cell_type": "code",
   "execution_count": 2,
   "metadata": {},
   "outputs": [
    {
     "name": "stdout",
     "output_type": "stream",
     "text": [
      "[4.0, 5.0, 6.0]\n"
     ]
    }
   ],
   "source": [
    "[1,2,3],[4,5,6],[7,8,9]\n",
    "\n",
    "def average_finder(l1,l2,l3):\n",
    "    average = []\n",
    "    for pair in zip(l1,l2,l3):\n",
    "        average.append(sum(pair)/len(pair))\n",
    "    return average\n",
    "\n",
    "print(average_finder([1,2,3],[4,5,6],[7,8,9]))"
   ]
  },
  {
   "cell_type": "code",
   "execution_count": 3,
   "metadata": {},
   "outputs": [],
   "source": [
    "def find_average(*args):\n",
    "    average = []\n",
    "    for pair in zip(*args):\n",
    "        average.append(sum(pair)/len(pair))\n",
    "    return average"
   ]
  },
  {
   "cell_type": "code",
   "execution_count": 4,
   "metadata": {},
   "outputs": [
    {
     "name": "stdout",
     "output_type": "stream",
     "text": [
      "[7.0, 8.0, 9.0]\n"
     ]
    }
   ],
   "source": [
    "args = ([1,2,3],[4,5,6],[7,8,9],[10,11,12],[13,14,15])\n",
    "print(find_average(*args))"
   ]
  },
  {
   "cell_type": "code",
   "execution_count": 5,
   "metadata": {},
   "outputs": [
    {
     "name": "stdout",
     "output_type": "stream",
     "text": [
      "[7.0, 8.0, 9.0]\n"
     ]
    }
   ],
   "source": [
    "average_find = lambda *args : [sum(pair)/len(pair) for pair in zip(*args)]\n",
    "print(average_find(*args))"
   ]
  }
 ],
 "metadata": {
  "kernelspec": {
   "display_name": "base",
   "language": "python",
   "name": "python3"
  },
  "language_info": {
   "codemirror_mode": {
    "name": "ipython",
    "version": 3
   },
   "file_extension": ".py",
   "mimetype": "text/x-python",
   "name": "python",
   "nbconvert_exporter": "python",
   "pygments_lexer": "ipython3",
   "version": "3.9.13"
  }
 },
 "nbformat": 4,
 "nbformat_minor": 2
}
