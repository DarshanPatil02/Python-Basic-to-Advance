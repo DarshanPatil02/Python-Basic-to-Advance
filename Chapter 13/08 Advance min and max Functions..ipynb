{
 "cells": [
  {
   "cell_type": "code",
   "execution_count": 1,
   "metadata": {},
   "outputs": [
    {
     "name": "stdout",
     "output_type": "stream",
     "text": [
      "7\n",
      "1\n"
     ]
    }
   ],
   "source": [
    "# advance min() and max() function\n",
    "\n",
    "numbers = [1,2,4,5,7]\n",
    "print(max(numbers))\n",
    "print(min(numbers))"
   ]
  },
  {
   "cell_type": "code",
   "execution_count": 2,
   "metadata": {},
   "outputs": [],
   "source": [
    "names = ['Rohit','Darshan','Ajay']\n",
    "def func(item):\n",
    "    return len(item)"
   ]
  },
  {
   "cell_type": "code",
   "execution_count": 3,
   "metadata": {},
   "outputs": [
    {
     "name": "stdout",
     "output_type": "stream",
     "text": [
      "Darshan\n",
      "Ajay\n"
     ]
    }
   ],
   "source": [
    "print(max(names, key=func))\n",
    "print(min(names, key=func))"
   ]
  },
  {
   "cell_type": "code",
   "execution_count": 4,
   "metadata": {},
   "outputs": [
    {
     "name": "stdout",
     "output_type": "stream",
     "text": [
      "Darshan\n",
      "Ajay\n"
     ]
    }
   ],
   "source": [
    "# By using lambda function\n",
    "names = ['Rohit','Darshan','Ajay']\n",
    "print(max(names, key= lambda x: len(x)))\n",
    "print(min(names,key=lambda x:len(x)))"
   ]
  },
  {
   "cell_type": "code",
   "execution_count": 5,
   "metadata": {},
   "outputs": [
    {
     "name": "stdout",
     "output_type": "stream",
     "text": [
      "Darshan\n"
     ]
    }
   ],
   "source": [
    "students = [\n",
    "    {'name':'Darshan', 'score':95, 'age':21},\n",
    "    {'name':'Rohit', 'score':90, 'age':18},\n",
    "    {'name':'Ajay', 'score':87, 'age':25}\n",
    "]\n",
    "\n",
    "print(max(students, key=lambda item: item.get('score'))['name'])"
   ]
  },
  {
   "cell_type": "code",
   "execution_count": 6,
   "metadata": {},
   "outputs": [
    {
     "name": "stdout",
     "output_type": "stream",
     "text": [
      "Darshan\n"
     ]
    }
   ],
   "source": [
    "students1 = {\n",
    "    'Darshan': {'score':95, 'age':21},\n",
    "    'Rohit': {'score':90, 'age':18},\n",
    "    'Ajay': {'score':87, 'age':25} \n",
    "}\n",
    "\n",
    "print(max(students1, key= lambda item: students1[item]['score']))"
   ]
  }
 ],
 "metadata": {
  "kernelspec": {
   "display_name": "base",
   "language": "python",
   "name": "python3"
  },
  "language_info": {
   "codemirror_mode": {
    "name": "ipython",
    "version": 3
   },
   "file_extension": ".py",
   "mimetype": "text/x-python",
   "name": "python",
   "nbconvert_exporter": "python",
   "pygments_lexer": "ipython3",
   "version": "3.9.13"
  }
 },
 "nbformat": 4,
 "nbformat_minor": 2
}
