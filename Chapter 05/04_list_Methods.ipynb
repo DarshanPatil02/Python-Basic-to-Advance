{
 "cells": [
  {
   "cell_type": "code",
   "execution_count": 1,
   "metadata": {},
   "outputs": [
    {
     "name": "stdout",
     "output_type": "stream",
     "text": [
      "apple is present\n"
     ]
    }
   ],
   "source": [
    "fruits = [\"orange\",\"apple\",\"pear\",\"banana\",\"kiwi\",\"apple\",\"banana\"]\n",
    "\n",
    "if \"apple\" in fruits:\n",
    "    print(\"apple is present\")\n",
    "else:\n",
    "    print(\"apple is not present\")"
   ]
  },
  {
   "cell_type": "code",
   "execution_count": 2,
   "metadata": {},
   "outputs": [],
   "source": [
    "\n",
    "# Some common methods in list\n",
    "# count\n",
    "# sort method\n",
    "# sorted function\n",
    "# reversed\n",
    "# clear\n",
    "# copy\n",
    "# index method"
   ]
  },
  {
   "cell_type": "code",
   "execution_count": 3,
   "metadata": {},
   "outputs": [
    {
     "name": "stdout",
     "output_type": "stream",
     "text": [
      "2\n"
     ]
    }
   ],
   "source": [
    "print(fruits.count(\"apple\"))"
   ]
  },
  {
   "cell_type": "code",
   "execution_count": 4,
   "metadata": {},
   "outputs": [
    {
     "name": "stdout",
     "output_type": "stream",
     "text": [
      "['apple', 'apple', 'banana', 'banana', 'kiwi', 'orange', 'pear']\n"
     ]
    }
   ],
   "source": [
    "fruits.sort() # sort ascending order\n",
    "print(fruits)"
   ]
  },
  {
   "cell_type": "code",
   "execution_count": 5,
   "metadata": {},
   "outputs": [
    {
     "name": "stdout",
     "output_type": "stream",
     "text": [
      "['pear', 'orange', 'kiwi', 'banana', 'banana', 'apple', 'apple']\n"
     ]
    }
   ],
   "source": [
    "fruits.sort(reverse=True) #sort descending order\n",
    "print(fruits)"
   ]
  },
  {
   "cell_type": "code",
   "execution_count": 6,
   "metadata": {},
   "outputs": [
    {
     "name": "stdout",
     "output_type": "stream",
     "text": [
      "[1, 3, 5, 9, 10]\n"
     ]
    }
   ],
   "source": [
    "number=[3,5,1,9,10]\n",
    "number.sort()\n",
    "print(number)"
   ]
  },
  {
   "cell_type": "code",
   "execution_count": 7,
   "metadata": {},
   "outputs": [
    {
     "name": "stdout",
     "output_type": "stream",
     "text": [
      "['apple', 'apple', 'banana', 'banana', 'kiwi', 'orange', 'pear']\n",
      "['orange', 'apple', 'pear', 'banana', 'kiwi', 'apple', 'banana']\n",
      "['pear', 'orange', 'kiwi', 'banana', 'banana', 'apple', 'apple']\n"
     ]
    }
   ],
   "source": [
    "# Sorted  ---> used to sort number without affecting original one\n",
    "fruits = [\"orange\",\"apple\",\"pear\",\"banana\",\"kiwi\",\"apple\",\"banana\"]\n",
    "print(sorted(fruits))\n",
    "print(fruits)  # --->  original list doesn't affected\n",
    "\n",
    "print(sorted(fruits, reverse=True))"
   ]
  },
  {
   "cell_type": "code",
   "execution_count": 8,
   "metadata": {},
   "outputs": [
    {
     "name": "stdout",
     "output_type": "stream",
     "text": [
      "[3, 5, 1, 9, 10]\n",
      "[]\n"
     ]
    }
   ],
   "source": [
    "number=[3,5,1,9,10]\n",
    "print(number) # before clear\n",
    "number.clear()\n",
    "print(number) # after clear\n"
   ]
  },
  {
   "cell_type": "code",
   "execution_count": 9,
   "metadata": {},
   "outputs": [
    {
     "name": "stdout",
     "output_type": "stream",
     "text": [
      "[3, 5, 1, 9, 10]\n",
      "[3, 12, 1, 9, 10]\n",
      "[3, 5, 1, 9, 10]\n"
     ]
    }
   ],
   "source": [
    "number=[3,5,1,9,10]\n",
    "number_copy = number.copy()\n",
    "print(number_copy)\n",
    "\n",
    "number_copy[1]=12\n",
    "print(number_copy) #---> Copy changes according to command\n",
    "print(number) #---> Original list remains same\n"
   ]
  },
  {
   "cell_type": "code",
   "execution_count": 10,
   "metadata": {},
   "outputs": [
    {
     "name": "stdout",
     "output_type": "stream",
     "text": [
      "1\n",
      "2\n",
      "7\n",
      "7\n"
     ]
    }
   ],
   "source": [
    "# index method\n",
    "numbers = [2,8,6,9,7,3,12]\n",
    "print(numbers.index(8))\n",
    "\n",
    "numbers = [2,8,6,9,7,3,12,6,85,52]\n",
    "print(numbers.index(6)) # syntax index.(number to  find, from index position (default = 0))\n",
    "print(numbers.index(6,3)) # syntax index.(number to  find, from index position)\n",
    "print(numbers.index(6,3,10)) # syntax index.(number to  find, from index position,end index)\n",
    "\n"
   ]
  }
 ],
 "metadata": {
  "kernelspec": {
   "display_name": "base",
   "language": "python",
   "name": "python3"
  },
  "language_info": {
   "codemirror_mode": {
    "name": "ipython",
    "version": 3
   },
   "file_extension": ".py",
   "mimetype": "text/x-python",
   "name": "python",
   "nbconvert_exporter": "python",
   "pygments_lexer": "ipython3",
   "version": "3.9.13"
  }
 },
 "nbformat": 4,
 "nbformat_minor": 2
}
