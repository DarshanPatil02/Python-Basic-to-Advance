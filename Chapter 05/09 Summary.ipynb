{
 "cells": [
  {
   "cell_type": "code",
   "execution_count": 1,
   "metadata": {},
   "outputs": [],
   "source": [
    "# List cahpter summary\n",
    "# List is a data structure that can holda any type of Data"
   ]
  },
  {
   "cell_type": "code",
   "execution_count": 2,
   "metadata": {},
   "outputs": [],
   "source": [
    "# Create a list\n",
    "word = [\"word1\",\"word2\"]"
   ]
  },
  {
   "cell_type": "code",
   "execution_count": 3,
   "metadata": {},
   "outputs": [],
   "source": [
    "# You can store anything inside list\n",
    "mixed = [1,2,3,[4,5,6],\"seven\",8.0,None]"
   ]
  },
  {
   "cell_type": "code",
   "execution_count": 4,
   "metadata": {},
   "outputs": [
    {
     "name": "stdout",
     "output_type": "stream",
     "text": [
      "1\n",
      "[4, 5, 6]\n"
     ]
    }
   ],
   "source": [
    "# List is a ordered collection of items\n",
    "print(mixed[0]) # output = [1]\n",
    "print(mixed[3]) # Output = [4,5,6]"
   ]
  },
  {
   "cell_type": "code",
   "execution_count": 5,
   "metadata": {},
   "outputs": [
    {
     "name": "stdout",
     "output_type": "stream",
     "text": [
      "[1, 2, 3, [4, 5, 6], 'seven', 8.0, None, 10]\n",
      "[1, 2, 3, [4, 5, 6], 'seven', 8.0, None, 10, [10, 20, 30]]\n"
     ]
    }
   ],
   "source": [
    "# Add data to our list\n",
    "# append method\n",
    "mixed.append(10)\n",
    "print(mixed)\n",
    "\n",
    "mixed.append([10,20,30])\n",
    "print(mixed)\n"
   ]
  },
  {
   "cell_type": "code",
   "execution_count": 6,
   "metadata": {},
   "outputs": [
    {
     "name": "stdout",
     "output_type": "stream",
     "text": [
      "[1, 2, 3, [4, 5, 6], 'seven', 8.0, None, 10, [10, 20, 30], 10, 20, 30]\n"
     ]
    }
   ],
   "source": [
    "# Extend\n",
    "mixed.extend([10,20,30])\n",
    "print(mixed)"
   ]
  },
  {
   "cell_type": "code",
   "execution_count": 7,
   "metadata": {},
   "outputs": [
    {
     "name": "stdout",
     "output_type": "stream",
     "text": [
      "[10, 20, 30, 40, 50, 60]\n"
     ]
    }
   ],
   "source": [
    "# join two list\n",
    "l1=[10,20,30]\n",
    "l2=[40,50,60]\n",
    "l = l1+l2\n",
    "print(l)"
   ]
  },
  {
   "cell_type": "code",
   "execution_count": 8,
   "metadata": {},
   "outputs": [
    {
     "name": "stdout",
     "output_type": "stream",
     "text": [
      "[1, 25, 2, 3, [4, 5, 6], 'seven', 8.0, None, 10, [10, 20, 30], 10, 20, 30]\n"
     ]
    }
   ],
   "source": [
    "# Insert\n",
    "mixed.insert(1,25)\n",
    "print(mixed)"
   ]
  },
  {
   "cell_type": "code",
   "execution_count": 9,
   "metadata": {},
   "outputs": [],
   "source": [
    "# Remove data from list\n",
    "popped=mixed.pop() # remove last item\n",
    "popped=mixed.pop(1) # remove item at last position\n"
   ]
  },
  {
   "cell_type": "code",
   "execution_count": 10,
   "metadata": {},
   "outputs": [
    {
     "name": "stdout",
     "output_type": "stream",
     "text": [
      "[1, 2, 3, [4, 5, 6], 8.0, None, 10, [10, 20, 30], 10, 20]\n"
     ]
    }
   ],
   "source": [
    "# Remove\n",
    "mixed.remove(\"seven\")\n",
    "print(mixed)"
   ]
  },
  {
   "cell_type": "code",
   "execution_count": 11,
   "metadata": {},
   "outputs": [
    {
     "name": "stdout",
     "output_type": "stream",
     "text": [
      "[1, 2, 3, [4, 5, 6], 8.0, None, 10, [10, 20, 30], 10, 20]\n",
      "[1, 2, [4, 5, 6], 8.0, None, 10, [10, 20, 30], 10, 20]\n"
     ]
    }
   ],
   "source": [
    "# del statement\n",
    "print(mixed)\n",
    "del mixed[2]\n",
    "print(mixed)"
   ]
  },
  {
   "cell_type": "code",
   "execution_count": 12,
   "metadata": {},
   "outputs": [
    {
     "name": "stdout",
     "output_type": "stream",
     "text": [
      "1\n",
      "2\n",
      "[4, 5, 6]\n",
      "8.0\n",
      "None\n",
      "10\n",
      "[10, 20, 30]\n",
      "10\n",
      "20\n"
     ]
    }
   ],
   "source": [
    "# loop in list\n",
    "for i in mixed:\n",
    "    print(i)"
   ]
  }
 ],
 "metadata": {
  "kernelspec": {
   "display_name": "base",
   "language": "python",
   "name": "python3"
  },
  "language_info": {
   "codemirror_mode": {
    "name": "ipython",
    "version": 3
   },
   "file_extension": ".py",
   "mimetype": "text/x-python",
   "name": "python",
   "nbconvert_exporter": "python",
   "pygments_lexer": "ipython3",
   "version": "3.9.13"
  }
 },
 "nbformat": 4,
 "nbformat_minor": 2
}
