{
 "cells": [
  {
   "cell_type": "code",
   "execution_count": 1,
   "metadata": {},
   "outputs": [
    {
     "name": "stdout",
     "output_type": "stream",
     "text": [
      "[1, 4, 9, 16, 25, 36, 49, 64, 81, 100]\n"
     ]
    }
   ],
   "source": [
    "# Problem 1\n",
    "# define a function which will take list containing numbers as input # and return list containing square of every elements\n",
    "\n",
    "def square_of_numbers(list):\n",
    "    squared_number = []\n",
    "    for i in list:\n",
    "        squared_number.append(i**2)\n",
    "    return squared_number\n",
    "\n",
    "numbers = list(range(1,11))\n",
    "\n",
    "print(square_of_numbers(numbers))"
   ]
  },
  {
   "cell_type": "code",
   "execution_count": 2,
   "metadata": {},
   "outputs": [
    {
     "name": "stdout",
     "output_type": "stream",
     "text": [
      "[4, 3, 2, 1]\n",
      "['word3', 'word2', 'word1']\n"
     ]
    }
   ],
   "source": [
    "# Problem 2\n",
    "# define a function which will take list as a argument and this function #will return a reversed list\n",
    "# Note you simply do this with reverse method or [-1]\n",
    "# but try to do this with the help of append and return method\n",
    "\n",
    "num = [1,2,3,4]\n",
    "words = [\"word1\",\"word2\",\"word3\"]\n",
    "\n",
    "def reverse(lists):\n",
    "    lists.reverse()\n",
    "    return lists\n",
    "\n",
    "print(reverse(num))\n",
    "print(reverse(words))"
   ]
  },
  {
   "cell_type": "code",
   "execution_count": 3,
   "metadata": {},
   "outputs": [
    {
     "name": "stdout",
     "output_type": "stream",
     "text": [
      "[1, 2, 3, 4]\n",
      "['word1', 'word2', 'word3']\n"
     ]
    }
   ],
   "source": [
    "# OR\n",
    "def reverse_list(list):\n",
    "    return(list[::-1])\n",
    "\n",
    "print(reverse_list(num))\n",
    "print(reverse_list(words))"
   ]
  },
  {
   "cell_type": "code",
   "execution_count": 4,
   "metadata": {},
   "outputs": [
    {
     "name": "stdout",
     "output_type": "stream",
     "text": [
      "[1, 2, 3, 4]\n",
      "['word1', 'word2', 'word3']\n"
     ]
    }
   ],
   "source": [
    "# OR\n",
    "def reverse_list_2(list):\n",
    "    reverse_list = []\n",
    "    for i in range(1,(len(list)+1)):\n",
    "        reverse_list.append(list[-i])\n",
    "    return reverse_list\n",
    "\n",
    "print(reverse_list_2(num))\n",
    "print(reverse_list_2(words))\n"
   ]
  },
  {
   "cell_type": "code",
   "execution_count": 5,
   "metadata": {},
   "outputs": [
    {
     "name": "stdout",
     "output_type": "stream",
     "text": [
      "[1, 2, 3, 4]\n",
      "['word1', 'word2', 'word3']\n"
     ]
    }
   ],
   "source": [
    "# OR \n",
    "\n",
    "def reverse_list_3(lists):\n",
    "    reverse_list = []\n",
    "    for i in range(len(lists)):\n",
    "        popped_element = lists.pop()\n",
    "        reverse_list.append(popped_element)\n",
    "    return reverse_list\n",
    "\n",
    "print(reverse_list_3(num))\n",
    "print(reverse_list_3(words))"
   ]
  },
  {
   "cell_type": "code",
   "execution_count": 6,
   "metadata": {},
   "outputs": [
    {
     "name": "stdout",
     "output_type": "stream",
     "text": [
      "['cba', 'vut', 'zyx']\n"
     ]
    }
   ],
   "source": [
    "# Problem 3\n",
    "# define a function that take list of words as argument and # return list with reverse of every element in that list\n",
    "#example\n",
    "#['abc', 'tuv', 'xyz'] -> ['cba', 'vut', 'zyx'] \n",
    "\n",
    "def reverse_element(lists):\n",
    "    reverse_elements = []\n",
    "    for i in range(len(lists)):\n",
    "        var = lists[i][::-1]\n",
    "        reverse_elements.append(var)\n",
    "    return reverse_elements\n",
    "\n",
    "elements = ['abc', 'tuv', 'xyz']\n",
    "print(reverse_element(elements))"
   ]
  },
  {
   "cell_type": "code",
   "execution_count": 7,
   "metadata": {},
   "outputs": [
    {
     "name": "stdout",
     "output_type": "stream",
     "text": [
      "['cba', 'vut', 'zyx']\n"
     ]
    }
   ],
   "source": [
    "# OR \n",
    "def reverse_element(lists):\n",
    "    reverse_elements = []\n",
    "    for i in lists:\n",
    "        reverse_elements.append(i[::-1])\n",
    "    return reverse_elements\n",
    "\n",
    "elements = ['abc', 'tuv', 'xyz']\n",
    "print(reverse_element(elements))\n"
   ]
  },
  {
   "cell_type": "code",
   "execution_count": 8,
   "metadata": {},
   "outputs": [
    {
     "data": {
      "text/plain": [
       "([1, 3, 5, 7], [2, 4, 6])"
      ]
     },
     "execution_count": 8,
     "metadata": {},
     "output_type": "execute_result"
    }
   ],
   "source": [
    "# Problem 4\n",
    "# filter odd even\n",
    "# define a function\n",
    "# input\n",
    "# list ---> [1,2,3,4,5,6,7]\n",
    "# ouput ----> [[1,3,5,7], [2,4,6]] \n",
    "\n",
    "def filter_odd_even(lists):\n",
    "    even = []\n",
    "    odd = []\n",
    "    for i in range(len(lists)):\n",
    "        if lists[i]%2==0:\n",
    "            even.append(lists[i])\n",
    "        else:\n",
    "            odd.append(lists[i])\n",
    "    return odd,even\n",
    "\n",
    "numbers = [1,2,3,4,5,6,7]\n",
    "filter_odd_even(numbers)"
   ]
  },
  {
   "cell_type": "code",
   "execution_count": 9,
   "metadata": {},
   "outputs": [
    {
     "data": {
      "text/plain": [
       "([1, 3, 5, 7], [2, 4, 6])"
      ]
     },
     "execution_count": 9,
     "metadata": {},
     "output_type": "execute_result"
    }
   ],
   "source": [
    "# OR\n",
    "\n",
    "def filter_odd_even(lists):\n",
    "    even = []\n",
    "    odd = []\n",
    "    for i in lists:\n",
    "        if i%2==0:\n",
    "            even.append(i)\n",
    "        else:\n",
    "            odd.append(i)\n",
    "    return odd,even\n",
    "\n",
    "numbers = [1,2,3,4,5,6,7]\n",
    "filter_odd_even(numbers)\n"
   ]
  },
  {
   "cell_type": "code",
   "execution_count": 10,
   "metadata": {},
   "outputs": [
    {
     "name": "stdout",
     "output_type": "stream",
     "text": [
      "[1, 2]\n"
     ]
    }
   ],
   "source": [
    "# Problem 5\n",
    "# common elements finder function\n",
    "# define a functions which take 2 lists as input and return a list which contains common elements of both lists\n",
    "# example\n",
    "#input -> [1,2,5,8], [1,2,7,6]\n",
    "#output [1,2]\n",
    "\n",
    "def common_elements(l1,l2):\n",
    "    common = []\n",
    "    for i in l1:\n",
    "        for j in l2:\n",
    "            if i==j:\n",
    "                common.append(i)\n",
    "    return common\n",
    "\n",
    "l1 = [1,2,5,8]\n",
    "l2 = [1,2,7,6]\n",
    "print(common_elements(l1,l2))"
   ]
  },
  {
   "cell_type": "code",
   "execution_count": 11,
   "metadata": {},
   "outputs": [
    {
     "name": "stdout",
     "output_type": "stream",
     "text": [
      "[1, 2]\n"
     ]
    }
   ],
   "source": [
    "# OR\n",
    "\n",
    "def common_finder(l1,l2):\n",
    "    output = []\n",
    "    for i in  l1:\n",
    "        if i in l2:\n",
    "            output.append(i)\n",
    "    return output\n",
    "\n",
    "l1 = [1,2,5,8]\n",
    "l2 = [1,2,7,6]\n",
    "print(common_finder(l1,l2))"
   ]
  },
  {
   "cell_type": "code",
   "execution_count": 12,
   "metadata": {},
   "outputs": [
    {
     "name": "stdout",
     "output_type": "stream",
     "text": [
      "2\n"
     ]
    }
   ],
   "source": [
    "# Problem 6\n",
    "# function\n",
    "# [1,2,3, [1,2], [3,4]], input\n",
    "# type()\n",
    "\n",
    "ls1 = [1,2,3, [1,2], [3,4]]\n",
    "\n",
    "def sublist_counter(ls1):\n",
    "    output = 0\n",
    "    for i in ls1:\n",
    "        if type(i)==list:\n",
    "            output+=1\n",
    "    return output\n",
    "\n",
    "print(sublist_counter(ls1))\n"
   ]
  }
 ],
 "metadata": {
  "kernelspec": {
   "display_name": "base",
   "language": "python",
   "name": "python3"
  },
  "language_info": {
   "codemirror_mode": {
    "name": "ipython",
    "version": 3
   },
   "file_extension": ".py",
   "mimetype": "text/x-python",
   "name": "python",
   "nbconvert_exporter": "python",
   "pygments_lexer": "ipython3",
   "version": "3.9.13"
  }
 },
 "nbformat": 4,
 "nbformat_minor": 2
}
