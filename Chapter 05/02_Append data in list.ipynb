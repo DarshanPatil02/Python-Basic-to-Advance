{
 "cells": [
  {
   "cell_type": "code",
   "execution_count": 1,
   "metadata": {},
   "outputs": [
    {
     "name": "stdout",
     "output_type": "stream",
     "text": [
      "['grapes', 'apple', 'Orange']\n"
     ]
    }
   ],
   "source": [
    "# How to add itemns in list\n",
    "# append\n",
    "\n",
    "fruits = [\"grapes\",\"apple\"]\n",
    "fruits.append(\"Orange\")\n",
    "print(fruits)"
   ]
  },
  {
   "cell_type": "code",
   "execution_count": 2,
   "metadata": {},
   "outputs": [
    {
     "name": "stdout",
     "output_type": "stream",
     "text": [
      "['grapes', 'Waternmelon', 'apple', 'Orange']\n"
     ]
    }
   ],
   "source": [
    "# insert\n",
    "fruits.insert(1,\"Waternmelon\") # Adding item at particular index\n",
    "print(fruits)"
   ]
  },
  {
   "cell_type": "code",
   "execution_count": 3,
   "metadata": {},
   "outputs": [
    {
     "name": "stdout",
     "output_type": "stream",
     "text": [
      "['grapes', 'Waternmelon', 'apple', 'Orange', 'Rose', 'Lilly', 'Sunflower']\n"
     ]
    }
   ],
   "source": [
    "# How to join (concatenate) two list\n",
    "flowers = [\"Rose\",\"Lilly\",\"Sunflower\"]\n",
    "fruits_flowers = fruits+flowers \n",
    "print(fruits_flowers)"
   ]
  },
  {
   "cell_type": "code",
   "execution_count": 4,
   "metadata": {},
   "outputs": [],
   "source": [
    "# Extend list\n",
    "fruits.extend(['Mango',\"pineapple\"])"
   ]
  }
 ],
 "metadata": {
  "kernelspec": {
   "display_name": "base",
   "language": "python",
   "name": "python3"
  },
  "language_info": {
   "codemirror_mode": {
    "name": "ipython",
    "version": 3
   },
   "file_extension": ".py",
   "mimetype": "text/x-python",
   "name": "python",
   "nbconvert_exporter": "python",
   "pygments_lexer": "ipython3",
   "version": "3.9.13"
  }
 },
 "nbformat": 4,
 "nbformat_minor": 2
}
