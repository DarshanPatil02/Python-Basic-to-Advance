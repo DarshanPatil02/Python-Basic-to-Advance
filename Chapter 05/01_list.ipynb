{
 "cells": [
  {
   "cell_type": "code",
   "execution_count": 1,
   "metadata": {},
   "outputs": [],
   "source": [
    "# list --> Ordered collection of Data\n",
    "# You can store anything in lists like int,float, string"
   ]
  },
  {
   "cell_type": "code",
   "execution_count": 2,
   "metadata": {},
   "outputs": [
    {
     "name": "stdout",
     "output_type": "stream",
     "text": [
      "[2, 6, 8, 9, 25]\n",
      "<class 'list'>\n"
     ]
    }
   ],
   "source": [
    "number = [2,6,8,9,25]\n",
    "print(number)\n",
    "print(type(number))"
   ]
  },
  {
   "cell_type": "code",
   "execution_count": 3,
   "metadata": {},
   "outputs": [
    {
     "name": "stdout",
     "output_type": "stream",
     "text": [
      "['John', 'Tom', 'Lucy', 'Berlin']\n"
     ]
    }
   ],
   "source": [
    "Words = ['John',\"Tom\",\"Lucy\",\"Berlin\"]\n",
    "print(Words) "
   ]
  },
  {
   "cell_type": "code",
   "execution_count": 4,
   "metadata": {},
   "outputs": [
    {
     "name": "stdout",
     "output_type": "stream",
     "text": [
      "[1, 2, 3, 4, 'Five', 'Six', 6.5, 7.8, None]\n"
     ]
    }
   ],
   "source": [
    "mixed = [1,2,3,4,\"Five\",'Six', 6.5,7.8, None]\n",
    "print(mixed)"
   ]
  },
  {
   "cell_type": "code",
   "execution_count": 5,
   "metadata": {},
   "outputs": [
    {
     "name": "stdout",
     "output_type": "stream",
     "text": [
      "3\n",
      "c\n"
     ]
    }
   ],
   "source": [
    "# retrieve in list\n",
    "print(mixed[2])\n",
    "\n",
    "print(Words[2][2])"
   ]
  },
  {
   "cell_type": "code",
   "execution_count": 6,
   "metadata": {},
   "outputs": [
    {
     "name": "stdout",
     "output_type": "stream",
     "text": [
      "[1, 2, 3, 4, 'Five', 'Six', 6.5, 7.8, None]\n",
      "[1, 2, 'Three', 4, 'Five', 'Six', 6.5, 7.8, None]\n"
     ]
    }
   ],
   "source": [
    "# Lists are mutable so we can change\n",
    "\n",
    "print(mixed)  # Before\n",
    "mixed[2]=\"Three\"\n",
    "print(mixed)  # after"
   ]
  },
  {
   "cell_type": "code",
   "execution_count": 7,
   "metadata": {},
   "outputs": [
    {
     "name": "stdout",
     "output_type": "stream",
     "text": [
      "om\n"
     ]
    }
   ],
   "source": [
    "words = ['John',\"Tom\",\"Lucy\",\"Berlin\"]\n",
    "print(words[1][1:]) # obtain something in list element"
   ]
  },
  {
   "cell_type": "code",
   "execution_count": null,
   "metadata": {},
   "outputs": [],
   "source": []
  }
 ],
 "metadata": {
  "kernelspec": {
   "display_name": "base",
   "language": "python",
   "name": "python3"
  },
  "language_info": {
   "codemirror_mode": {
    "name": "ipython",
    "version": 3
   },
   "file_extension": ".py",
   "mimetype": "text/x-python",
   "name": "python",
   "nbconvert_exporter": "python",
   "pygments_lexer": "ipython3",
   "version": "3.9.13"
  }
 },
 "nbformat": 4,
 "nbformat_minor": 2
}
