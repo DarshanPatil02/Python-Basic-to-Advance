{
 "cells": [
  {
   "cell_type": "code",
   "execution_count": 1,
   "metadata": {},
   "outputs": [
    {
     "name": "stdout",
     "output_type": "stream",
     "text": [
      "False\n",
      "True\n",
      "False\n"
     ]
    }
   ],
   "source": [
    "fruits1 = [\"orange\",\"apple\",\"pear\"]\n",
    "fruits2 = [\"banana\",\"kiwi\",\"apple\"]\n",
    "fruits3 = [\"orange\",\"apple\",\"pear\"]\n",
    "\n",
    "print(fruits1==fruits2)  # False ---> Because list elements are not same\n",
    "\n",
    "print(fruits1==fruits3)  # True ---> Because list elements are same\n",
    "\n",
    "print(fruits1 is fruits3) # False ---> Because here list elements are same but there location in memory is different  "
   ]
  },
  {
   "cell_type": "code",
   "execution_count": 2,
   "metadata": {},
   "outputs": [
    {
     "name": "stdout",
     "output_type": "stream",
     "text": [
      "['Darshan', '22']\n",
      "Darshan 22\n",
      "['Darshan', '22']\n",
      "Darshan,22\n"
     ]
    }
   ],
   "source": [
    "# Split method\n",
    "# Convert string to list\n",
    "\n",
    "user_info = \"Darshan 22\".split(\" \")\n",
    "print(user_info)\n",
    "\n",
    "name,age = \"Darshan 22\".split(\" \")\n",
    "print(name,age)\n",
    "\n",
    "# join method\n",
    "# Convert list to string\n",
    "user_info = [\"Darshan\", \"22\"]\n",
    "print(user_info)\n",
    "\n",
    "print(\",\".join(user_info))\n"
   ]
  }
 ],
 "metadata": {
  "kernelspec": {
   "display_name": "base",
   "language": "python",
   "name": "python3"
  },
  "language_info": {
   "codemirror_mode": {
    "name": "ipython",
    "version": 3
   },
   "file_extension": ".py",
   "mimetype": "text/x-python",
   "name": "python",
   "nbconvert_exporter": "python",
   "pygments_lexer": "ipython3",
   "version": "3.9.13"
  }
 },
 "nbformat": 4,
 "nbformat_minor": 2
}
