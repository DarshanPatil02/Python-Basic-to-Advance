{
 "cells": [
  {
   "cell_type": "code",
   "execution_count": 1,
   "metadata": {},
   "outputs": [],
   "source": [
    "# common  method to delete data from list\n",
    "fruits = [\"orange\",\"apple\",\"pear\",\"Banana\",\"Kiwi\"]"
   ]
  },
  {
   "cell_type": "code",
   "execution_count": 2,
   "metadata": {},
   "outputs": [
    {
     "name": "stdout",
     "output_type": "stream",
     "text": [
      "['orange', 'apple', 'pear', 'Banana']\n",
      "['orange', 'pear', 'Banana']\n"
     ]
    }
   ],
   "source": [
    "# pop method\n",
    "\n",
    "fruits.pop() # delete last element if pass blank\n",
    "print(fruits)\n",
    "\n",
    "fruits.pop(1) # delete element whose index is given\n",
    "print(fruits)"
   ]
  },
  {
   "cell_type": "code",
   "execution_count": 3,
   "metadata": {},
   "outputs": [
    {
     "name": "stdout",
     "output_type": "stream",
     "text": [
      "['orange', 'Banana']\n"
     ]
    }
   ],
   "source": [
    "#del\n",
    "del fruits[1] # delete element whose index is given\n",
    "print(fruits)"
   ]
  },
  {
   "cell_type": "code",
   "execution_count": 4,
   "metadata": {},
   "outputs": [
    {
     "name": "stdout",
     "output_type": "stream",
     "text": [
      "['orange']\n"
     ]
    }
   ],
   "source": [
    "# remove\n",
    "fruits.remove(\"Banana\")\n",
    "print(fruits)"
   ]
  }
 ],
 "metadata": {
  "kernelspec": {
   "display_name": "base",
   "language": "python",
   "name": "python3"
  },
  "language_info": {
   "codemirror_mode": {
    "name": "ipython",
    "version": 3
   },
   "file_extension": ".py",
   "mimetype": "text/x-python",
   "name": "python",
   "nbconvert_exporter": "python",
   "pygments_lexer": "ipython3",
   "version": "3.9.13"
  }
 },
 "nbformat": 4,
 "nbformat_minor": 2
}
