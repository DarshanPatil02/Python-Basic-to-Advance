{
 "cells": [
  {
   "cell_type": "code",
   "execution_count": 1,
   "metadata": {},
   "outputs": [],
   "source": [
    "#Define is palindrome function that take one word in string as input\n",
    "# and return True if it is palindrome else return False\n",
    "# palindrome word that reads same backwards as forwards:\n",
    "#example\n",
    "#is_palindrome(\"madam\") -----> True\n",
    "#is_palindrome(\"naman\") -----> True\n",
    "#is_palindrome(\"horse\") -----> False\n",
    "\n",
    "# logic (algorithm) \n",
    "# step 1-> reverse the string\n",
    "# step 2-> compare reversed string with original string\n"
   ]
  },
  {
   "cell_type": "code",
   "execution_count": 2,
   "metadata": {},
   "outputs": [
    {
     "name": "stdout",
     "output_type": "stream",
     "text": [
      "True\n",
      "True\n",
      "False\n"
     ]
    }
   ],
   "source": [
    "def is_palindrome(string):\n",
    "    if string==string[::-1]:\n",
    "        return True\n",
    "    return False\n",
    "\n",
    "print(is_palindrome(\"madam\"))\n",
    "print(is_palindrome(\"naman\"))\n",
    "print(is_palindrome(\"horse\"))"
   ]
  },
  {
   "cell_type": "code",
   "execution_count": 3,
   "metadata": {},
   "outputs": [
    {
     "name": "stdout",
     "output_type": "stream",
     "text": [
      "True\n",
      "True\n",
      "False\n"
     ]
    }
   ],
   "source": [
    "# Or\n",
    "def is_palindrome_check(string):\n",
    "    return (string==string[::-1])\n",
    "\n",
    "print(is_palindrome_check(\"madam\"))\n",
    "print(is_palindrome_check(\"naman\"))\n",
    "print(is_palindrome_check(\"horse\"))"
   ]
  }
 ],
 "metadata": {
  "kernelspec": {
   "display_name": "base",
   "language": "python",
   "name": "python3"
  },
  "language_info": {
   "codemirror_mode": {
    "name": "ipython",
    "version": 3
   },
   "file_extension": ".py",
   "mimetype": "text/x-python",
   "name": "python",
   "nbconvert_exporter": "python",
   "pygments_lexer": "ipython3",
   "version": "3.9.13"
  }
 },
 "nbformat": 4,
 "nbformat_minor": 2
}
