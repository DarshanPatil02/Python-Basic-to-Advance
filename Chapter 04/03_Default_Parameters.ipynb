{
 "cells": [
  {
   "cell_type": "code",
   "execution_count": 1,
   "metadata": {},
   "outputs": [
    {
     "name": "stdout",
     "output_type": "stream",
     "text": [
      "Your first name is Darshan\n",
      "Your last name is Patil\n",
      "Your age is 22\n"
     ]
    }
   ],
   "source": [
    "# Default parameter\n",
    "\n",
    "def user_info(first_name,last_name,age):\n",
    "    print(f\"Your first name is {first_name}\")\n",
    "    print(f\"Your last name is {last_name}\")\n",
    "    print(f\"Your age is {age}\")\n",
    "\n",
    "user_info(\"Darshan\",\"Patil\",22)"
   ]
  },
  {
   "cell_type": "code",
   "execution_count": 2,
   "metadata": {},
   "outputs": [
    {
     "name": "stdout",
     "output_type": "stream",
     "text": [
      "Your first name is Ravi\n",
      "Your last name is Jadhav\n",
      "Your age is 26\n",
      "Your first name is Ravi\n",
      "Your last name is Jadhav\n",
      "Your age is 25\n"
     ]
    }
   ],
   "source": [
    "# By using Default parameter\n",
    "\n",
    "def user_info(first_name,last_name,age=26):\n",
    "    print(f\"Your first name is {first_name}\")\n",
    "    print(f\"Your last name is {last_name}\")\n",
    "    print(f\"Your age is {age}\")\n",
    "\n",
    "user_info(\"Ravi\",\"Jadhav\")\n",
    "\n",
    "user_info(\"Ravi\",\"Jadhav\",25)\n",
    "\n"
   ]
  }
 ],
 "metadata": {
  "kernelspec": {
   "display_name": "base",
   "language": "python",
   "name": "python3"
  },
  "language_info": {
   "codemirror_mode": {
    "name": "ipython",
    "version": 3
   },
   "file_extension": ".py",
   "mimetype": "text/x-python",
   "name": "python",
   "nbconvert_exporter": "python",
   "pygments_lexer": "ipython3",
   "version": "3.9.13"
  }
 },
 "nbformat": 4,
 "nbformat_minor": 2
}
