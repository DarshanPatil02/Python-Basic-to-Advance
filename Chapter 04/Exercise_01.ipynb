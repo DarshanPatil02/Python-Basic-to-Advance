{
 "cells": [
  {
   "cell_type": "code",
   "execution_count": 1,
   "metadata": {},
   "outputs": [
    {
     "name": "stdout",
     "output_type": "stream",
     "text": [
      "45 is greater than 35\n"
     ]
    }
   ],
   "source": [
    "# Define a function which takes two number as a input and return greater one\n",
    "\n",
    "def greater_one(num1,num2):\n",
    "    if num1>num2:\n",
    "        return (f\"{num1} is greater than {num2}\")\n",
    "    else:\n",
    "        return (f\"{num2} is greater than {num1}\")\n",
    "\n",
    "a = 35\n",
    "b = 45\n",
    "print(greater_one(a,b))"
   ]
  },
  {
   "cell_type": "code",
   "execution_count": 2,
   "metadata": {},
   "outputs": [
    {
     "name": "stdout",
     "output_type": "stream",
     "text": [
      "45 is greater than 35 and 26\n"
     ]
    }
   ],
   "source": [
    "# Define a function which takes three number as a input and return greater one\n",
    "\n",
    "def greatest_one(num1,num2,num3):\n",
    "    if num1>num2 and num1>num3:\n",
    "        return (f\"{num1} is greater than {num2} and {num3}\")\n",
    "    elif num2>num1 and num2>num3:\n",
    "        return (f\"{num2} is greater than {num1} and {num3}\")\n",
    "    else:\n",
    "        return (f\"{num3} is greater than {num1} and {num2}\")\n",
    "\n",
    "a = 35\n",
    "b = 45\n",
    "c = 26\n",
    "print(greatest_one(a,b,c))"
   ]
  }
 ],
 "metadata": {
  "kernelspec": {
   "display_name": "base",
   "language": "python",
   "name": "python3"
  },
  "language_info": {
   "codemirror_mode": {
    "name": "ipython",
    "version": 3
   },
   "file_extension": ".py",
   "mimetype": "text/x-python",
   "name": "python",
   "nbconvert_exporter": "python",
   "pygments_lexer": "ipython3",
   "version": "3.9.13"
  }
 },
 "nbformat": 4,
 "nbformat_minor": 2
}
