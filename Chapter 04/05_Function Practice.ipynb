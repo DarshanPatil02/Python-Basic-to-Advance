{
 "cells": [
  {
   "cell_type": "code",
   "execution_count": 1,
   "metadata": {},
   "outputs": [
    {
     "name": "stdout",
     "output_type": "stream",
     "text": [
      "n\n"
     ]
    }
   ],
   "source": [
    "# function Practice\n",
    "\n",
    "def last_char(name):\n",
    "    return name[-1]\n",
    "\n",
    "print(last_char(\"Darshan\"))"
   ]
  },
  {
   "cell_type": "code",
   "execution_count": 2,
   "metadata": {},
   "outputs": [
    {
     "name": "stdout",
     "output_type": "stream",
     "text": [
      "Number is odd\n"
     ]
    }
   ],
   "source": [
    "def odd_even(num):\n",
    "    num = int(num)\n",
    "    if num%2==0:\n",
    "        return (\"Number is even\")\n",
    "    else:\n",
    "        return (\"Number is odd\")\n",
    "\n",
    "print(odd_even(25))"
   ]
  },
  {
   "cell_type": "code",
   "execution_count": 3,
   "metadata": {},
   "outputs": [
    {
     "name": "stdout",
     "output_type": "stream",
     "text": [
      "Number is even\n"
     ]
    }
   ],
   "source": [
    "# OR based in DRY (Don't Repeate Yourself) principle\n",
    "\n",
    "def odd_even_check(num):\n",
    "    num = int(num)\n",
    "    if num%2==0:\n",
    "        return (\"Number is even\")\n",
    "    return (\"Number is odd\")\n",
    "\n",
    "print(odd_even_check(26))\n"
   ]
  },
  {
   "cell_type": "code",
   "execution_count": 4,
   "metadata": {},
   "outputs": [
    {
     "name": "stdout",
     "output_type": "stream",
     "text": [
      "True\n"
     ]
    }
   ],
   "source": [
    "# OR\n",
    "\n",
    "def is_even(num):\n",
    "    if num%2==0:\n",
    "        return True\n",
    "    return False\n",
    "\n",
    "print(is_even(26))"
   ]
  },
  {
   "cell_type": "code",
   "execution_count": 5,
   "metadata": {},
   "outputs": [
    {
     "name": "stdout",
     "output_type": "stream",
     "text": [
      "True\n"
     ]
    }
   ],
   "source": [
    "# OR\n",
    "\n",
    "def is_even_check(num):\n",
    "    return(num%2==0)\n",
    "\n",
    "\n",
    "print(is_even_check(26))"
   ]
  },
  {
   "cell_type": "code",
   "execution_count": 6,
   "metadata": {},
   "outputs": [
    {
     "name": "stdout",
     "output_type": "stream",
     "text": [
      "Yes it's return output\n"
     ]
    }
   ],
   "source": [
    "# If we pass blank function still if we want output function can return\n",
    "\n",
    "def blank_function():\n",
    "    return (\"Yes it's return output\")\n",
    "\n",
    "print(blank_function())"
   ]
  }
 ],
 "metadata": {
  "kernelspec": {
   "display_name": "base",
   "language": "python",
   "name": "python3"
  },
  "language_info": {
   "codemirror_mode": {
    "name": "ipython",
    "version": 3
   },
   "file_extension": ".py",
   "mimetype": "text/x-python",
   "name": "python",
   "nbconvert_exporter": "python",
   "pygments_lexer": "ipython3",
   "version": "3.9.13"
  }
 },
 "nbformat": 4,
 "nbformat_minor": 2
}
