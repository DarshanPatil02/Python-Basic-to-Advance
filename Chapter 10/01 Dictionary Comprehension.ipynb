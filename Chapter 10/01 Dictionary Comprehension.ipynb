{
 "cells": [
  {
   "cell_type": "code",
   "execution_count": 1,
   "metadata": {},
   "outputs": [
    {
     "name": "stdout",
     "output_type": "stream",
     "text": [
      "{1: 1, 2: 4, 3: 9, 4: 16}\n"
     ]
    }
   ],
   "source": [
    "# dictionary comprehension\n",
    "# Square = {1:1,2:4,3:9}\n",
    "square = {num:num**2 for num in range(1,5)}\n",
    "print(square)"
   ]
  },
  {
   "cell_type": "code",
   "execution_count": 2,
   "metadata": {},
   "outputs": [
    {
     "name": "stdout",
     "output_type": "stream",
     "text": [
      "{'Square of 1 is': 1, 'Square of 2 is': 4, 'Square of 3 is': 9, 'Square of 4 is': 16}\n"
     ]
    }
   ],
   "source": [
    "square1 = {f\"Square of {num} is\":num**2 for num in range(1,5)}\n",
    "print(square1)"
   ]
  },
  {
   "cell_type": "code",
   "execution_count": 3,
   "metadata": {},
   "outputs": [
    {
     "name": "stdout",
     "output_type": "stream",
     "text": [
      "Square of 1 is 1\n",
      "Square of 2 is 4\n",
      "Square of 3 is 9\n",
      "Square of 4 is 16\n"
     ]
    }
   ],
   "source": [
    "for k,v in square1.items():\n",
    "    print(k, v)"
   ]
  },
  {
   "cell_type": "code",
   "execution_count": 4,
   "metadata": {},
   "outputs": [
    {
     "name": "stdout",
     "output_type": "stream",
     "text": [
      "{'D': 1, 'a': 2, 'r': 1, 's': 1, 'h': 1, 'n': 1}\n"
     ]
    }
   ],
   "source": [
    "string = \"Darshan\"    \n",
    "word_count = {i:string.count(i) for i in string}\n",
    "print(word_count)"
   ]
  },
  {
   "cell_type": "code",
   "execution_count": 5,
   "metadata": {},
   "outputs": [
    {
     "name": "stdout",
     "output_type": "stream",
     "text": [
      "{1: 'odd', 2: 'Even', 3: 'odd', 4: 'Even', 5: 'odd', 6: 'Even', 7: 'odd', 8: 'Even', 9: 'odd', 10: 'Even'}\n"
     ]
    }
   ],
   "source": [
    "odd_even = {i:(\"Even\" if i%2==0 else \"odd\") for i in range(1,11)}\n",
    "print(odd_even)"
   ]
  }
 ],
 "metadata": {
  "kernelspec": {
   "display_name": "base",
   "language": "python",
   "name": "python3"
  },
  "language_info": {
   "codemirror_mode": {
    "name": "ipython",
    "version": 3
   },
   "file_extension": ".py",
   "mimetype": "text/x-python",
   "name": "python",
   "nbconvert_exporter": "python",
   "pygments_lexer": "ipython3",
   "version": "3.9.13"
  }
 },
 "nbformat": 4,
 "nbformat_minor": 2
}
