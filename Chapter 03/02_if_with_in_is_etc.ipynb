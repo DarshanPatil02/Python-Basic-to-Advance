{
 "cells": [
  {
   "cell_type": "code",
   "execution_count": 1,
   "metadata": {},
   "outputs": [
    {
     "name": "stdout",
     "output_type": "stream",
     "text": [
      "a is present in name\n"
     ]
    }
   ],
   "source": [
    "# in keyword\n",
    "# if with in\n",
    "\n",
    "if \"a\" in \"Darshan\":\n",
    "    print(\"a is present in name\")\n",
    "else:\n",
    "    print(\"a is not present in name\")"
   ]
  },
  {
   "cell_type": "code",
   "execution_count": 2,
   "metadata": {},
   "outputs": [
    {
     "name": "stdout",
     "output_type": "stream",
     "text": [
      "string is not empty\n"
     ]
    }
   ],
   "source": [
    "# Check empty or not\n",
    "name = \"Darshan\"\n",
    "if name:\n",
    "    print(\"string is not empty\")\n",
    "else:\n",
    "    print(\"string is empty\")"
   ]
  },
  {
   "cell_type": "code",
   "execution_count": 3,
   "metadata": {},
   "outputs": [
    {
     "name": "stdout",
     "output_type": "stream",
     "text": [
      "string is empty\n"
     ]
    }
   ],
   "source": [
    "name = \"\"\n",
    "if name:\n",
    "    print(\"string is not empty\")\n",
    "else:\n",
    "    print(\"string is empty\")"
   ]
  },
  {
   "cell_type": "code",
   "execution_count": 4,
   "metadata": {},
   "outputs": [
    {
     "name": "stdout",
     "output_type": "stream",
     "text": [
      "Your name is Darshan\n"
     ]
    }
   ],
   "source": [
    "user_name = input(\"Enter your name: \")\n",
    "if user_name:\n",
    "    print(f\"Your name is {user_name}\")\n",
    "else:\n",
    "    print(\"You didn't enter anything\")\n"
   ]
  }
 ],
 "metadata": {
  "kernelspec": {
   "display_name": "base",
   "language": "python",
   "name": "python3"
  },
  "language_info": {
   "codemirror_mode": {
    "name": "ipython",
    "version": 3
   },
   "file_extension": ".py",
   "mimetype": "text/x-python",
   "name": "python",
   "nbconvert_exporter": "python",
   "pygments_lexer": "ipython3",
   "version": "3.9.13"
  }
 },
 "nbformat": 4,
 "nbformat_minor": 2
}
