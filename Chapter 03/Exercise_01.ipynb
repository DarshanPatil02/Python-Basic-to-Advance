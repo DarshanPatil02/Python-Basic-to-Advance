{
 "cells": [
  {
   "cell_type": "code",
   "execution_count": 1,
   "metadata": {},
   "outputs": [
    {
     "name": "stdout",
     "output_type": "stream",
     "text": [
      "too low\n",
      "Winning number is 81 and your number is 52\n"
     ]
    }
   ],
   "source": [
    "# EXERCISE, NUMBER GUESSING GAME\n",
    "# Make a variable, like winning_number and assign any number to it.\n",
    "# Ask user to guess a number .\n",
    "# if user guessed correctly then print \"YOU WIN !!!!\"\n",
    "# if user didn't guessed correctly then :\n",
    "# if user guessed lower than actual number then print \"too low\"\n",
    "# if user guessed higher than actual number then print \"too high\"\n",
    "\n",
    "# google \"how to generate random number in python to generate random\n",
    "# winning number\n",
    "\n",
    "import numpy as np\n",
    "user_input = int(input(\"Enter number between 1 to 100 here: \"))\n",
    "winning_number = np.random.randint(1,100)\n",
    "if user_input==winning_number:\n",
    "    print(\"YOU WIN !!!!\")\n",
    "if user_input<winning_number:\n",
    "    print(\"too low\")\n",
    "else:\n",
    "    print(\"too high\")\n",
    "print(f\"Winning number is {winning_number} and your number is {user_input}\")\n"
   ]
  },
  {
   "cell_type": "code",
   "execution_count": 2,
   "metadata": {},
   "outputs": [
    {
     "name": "stdout",
     "output_type": "stream",
     "text": [
      "sorry, you cannot watch coco\n"
     ]
    }
   ],
   "source": [
    "# EXERCISE WATER COCO\n",
    "# Ask user's name and age\n",
    "# If user's name start with ('a' or 'A') and age is above 10 then\n",
    "# Print 'you can watch coco movie'\n",
    "# Else print 'sorry, you cannot watch coco'\n",
    "\n",
    "user_name = input(\"Enter your name: \")\n",
    "user_age = int(input(\"Enter your age: \"))\n",
    "\n",
    "if user_name.lower()[0]=='a' and user_age>=10:\n",
    "    print('you can watch coco movie')\n",
    "else:\n",
    "    print ('sorry, you cannot watch coco')"
   ]
  },
  {
   "cell_type": "code",
   "execution_count": 3,
   "metadata": {},
   "outputs": [
    {
     "name": "stdout",
     "output_type": "stream",
     "text": [
      "Pay Rs 250\n"
     ]
    }
   ],
   "source": [
    "# if elif else statement\n",
    "    \n",
    "# Show ticket pricing\n",
    "# 1 to 3 (free)\n",
    "# 4 to 10 (150)\n",
    "# 11 and 60 (250)\n",
    "# 60 and above (200)\n",
    "    \n",
    "user_age = int(input(\"Enter your age: \"))\n",
    "if user_age<=0:\n",
    "    print(\"Please enter valid age\")\n",
    "elif 0<user_age<=3:\n",
    "    print(\"You got free ticket\")\n",
    "elif 3<user_age<=10:\n",
    "    print(\"Pay Rs 150\")\n",
    "elif 10<user_age<=60:\n",
    "    print(\"Pay Rs 250\")\n",
    "else:\n",
    "    print(\"You pay Rs 200\")"
   ]
  },
  {
   "cell_type": "code",
   "execution_count": 4,
   "metadata": {},
   "outputs": [
    {
     "name": "stdout",
     "output_type": "stream",
     "text": [
      "Sum of 1 to 28 is 406\n"
     ]
    }
   ],
   "source": [
    "# exercise one of three\n",
    "# sum of n natural numbers\n",
    "# ask a user for natural number(n)\n",
    "# print total from 1 to n\n",
    "\n",
    "\n",
    "user_input = int(input(\"Enter number: \"))\n",
    "total = 0\n",
    "i = 0\n",
    "while i <= user_input:\n",
    "        total+=i\n",
    "        i+=1\n",
    "print(f\"Sum of 1 to {user_input} is {total}\")\n"
   ]
  },
  {
   "cell_type": "code",
   "execution_count": 5,
   "metadata": {},
   "outputs": [
    {
     "name": "stdout",
     "output_type": "stream",
     "text": [
      "The sum of 22 is 4\n"
     ]
    }
   ],
   "source": [
    "# ask user to input a number containing more than one digit\n",
    "# example I 1256\n",
    "# calculate 1+2+5+6 and print\n",
    "# algorithm (method to solve problem in human language)\n",
    "# ask input in string, i.e don't change string to int\n",
    "# example - \"1256\"\n",
    "# pick string character one by one and change to int\n",
    "# int(example[0]) + int(example[1]) .... go upto len(example)\\\n",
    "\n",
    "user_input = input(\"Enter number: \")\n",
    "total = 0\n",
    "i=0\n",
    "while i <len(user_input):\n",
    "    total+=(int(user_input[i]))\n",
    "    i+=1\n",
    "print(f\"The sum of {user_input} is {total}\")"
   ]
  },
  {
   "cell_type": "code",
   "execution_count": 6,
   "metadata": {},
   "outputs": [
    {
     "name": "stdout",
     "output_type": "stream",
     "text": [
      "D:1\n",
      "a:3\n",
      "r:1\n",
      "s:1\n",
      "h:1\n",
      "n:1\n",
      " :1\n",
      "P:1\n",
      "t:1\n",
      "i:1\n",
      "l:1\n"
     ]
    }
   ],
   "source": [
    "# ask a user for name\n",
    "# print count of each words\n",
    "# output:\n",
    "# D:1\n",
    "# a:3\n",
    "# r:1\n",
    "# s:1\n",
    "# h:1\n",
    "# n:1\n",
    "#  :1\n",
    "# P:1\n",
    "# t:1\n",
    "# i:1\n",
    "# l:1\n",
    "\n",
    "name = input(\"Enter your name: \")\n",
    "temp_var = ''\n",
    "i=0\n",
    "while i < len(name):\n",
    "    if name[i] not in temp_var:\n",
    "        temp_var+=name[i]\n",
    "        print(f\"{name[i]}:{name.count(name[i])}\" )\n",
    "    i+=1\n",
    "    "
   ]
  }
 ],
 "metadata": {
  "kernelspec": {
   "display_name": "base",
   "language": "python",
   "name": "python3"
  },
  "language_info": {
   "codemirror_mode": {
    "name": "ipython",
    "version": 3
   },
   "file_extension": ".py",
   "mimetype": "text/x-python",
   "name": "python",
   "nbconvert_exporter": "python",
   "pygments_lexer": "ipython3",
   "version": "3.9.13"
  }
 },
 "nbformat": 4,
 "nbformat_minor": 2
}
