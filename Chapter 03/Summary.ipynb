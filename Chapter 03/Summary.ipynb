{
 "cells": [
  {
   "cell_type": "code",
   "execution_count": 1,
   "metadata": {},
   "outputs": [
    {
     "name": "stdout",
     "output_type": "stream",
     "text": [
      "Your name is Darshan\n"
     ]
    }
   ],
   "source": [
    "# if Statement\n",
    "\n",
    "name = \"Darshan\"\n",
    "if name==\"Darshan\":\n",
    "    print(\"Your name is Darshan\")\n",
    "else:\n",
    "    print(\"You are not Darshan\")\n"
   ]
  },
  {
   "cell_type": "code",
   "execution_count": 2,
   "metadata": {},
   "outputs": [
    {
     "name": "stdout",
     "output_type": "stream",
     "text": [
      "Your name is Dhiraj\n"
     ]
    }
   ],
   "source": [
    "# OR\n",
    "    \n",
    "name = \"Dhiraj\"\n",
    "if name==\"Dhiraj\" or name==\"dhiraj\":\n",
    "    print(\"Your name is Dhiraj\")\n",
    "else:\n",
    "    print(\"You are not Dhiraj\")"
   ]
  },
  {
   "cell_type": "code",
   "execution_count": 3,
   "metadata": {},
   "outputs": [
    {
     "name": "stdout",
     "output_type": "stream",
     "text": [
      "You are not Dhiraj\n"
     ]
    }
   ],
   "source": [
    "# AND\n",
    "    \n",
    "name = \"Dhiraj\"\n",
    "if name==\"Dhiraj\" and name==\"dhiraj\":\n",
    "    print(\"Your name is Dhiraj\")\n",
    "else:\n",
    "    print(\"You are not Dhiraj\")\n"
   ]
  },
  {
   "cell_type": "code",
   "execution_count": 4,
   "metadata": {},
   "outputs": [
    {
     "name": "stdout",
     "output_type": "stream",
     "text": [
      "Hello World! 0\n",
      "Hello World! 1\n",
      "Hello World! 2\n",
      "Hello World! 3\n",
      "Hello World! 4\n",
      "Hello World! 5\n",
      "Hello World! 6\n",
      "Hello World! 7\n",
      "Hello World! 8\n",
      "Hello World! 9\n",
      "Hello World! 10\n"
     ]
    }
   ],
   "source": [
    "# WHile\n",
    "    \n",
    "i=0\n",
    "while i<=10:\n",
    "    print(f\"Hello World! {i}\")\n",
    "    i+=1\n"
   ]
  },
  {
   "cell_type": "code",
   "execution_count": 5,
   "metadata": {},
   "outputs": [
    {
     "name": "stdout",
     "output_type": "stream",
     "text": [
      "1\n",
      "2\n",
      "3\n",
      "4\n",
      "5\n",
      "6\n",
      "7\n",
      "8\n",
      "9\n"
     ]
    }
   ],
   "source": [
    "# for loop\n",
    "\n",
    "for i in range(1,10):\n",
    "    print(i)\n"
   ]
  },
  {
   "cell_type": "code",
   "execution_count": 6,
   "metadata": {},
   "outputs": [
    {
     "name": "stdout",
     "output_type": "stream",
     "text": [
      "0\n",
      "1\n",
      "2\n",
      "3\n",
      "4\n"
     ]
    }
   ],
   "source": [
    "# for with break\n",
    "for i in range(0,11):\n",
    "    if i==5:\n",
    "        break\n",
    "    print(i)\n"
   ]
  },
  {
   "cell_type": "code",
   "execution_count": 7,
   "metadata": {},
   "outputs": [
    {
     "name": "stdout",
     "output_type": "stream",
     "text": [
      "1\n",
      "2\n",
      "3\n",
      "4\n",
      "6\n",
      "7\n",
      "8\n",
      "9\n",
      "10\n"
     ]
    }
   ],
   "source": [
    "# for with continue\n",
    "for i in range(1,11):\n",
    "    if i==5:\n",
    "        continue\n",
    "    print(i)"
   ]
  },
  {
   "cell_type": "code",
   "execution_count": 8,
   "metadata": {},
   "outputs": [
    {
     "name": "stdout",
     "output_type": "stream",
     "text": [
      "D\n",
      "a\n",
      "r\n",
      "s\n",
      "h\n",
      "a\n",
      "n\n"
     ]
    }
   ],
   "source": [
    "# loop with string\n",
    "\n",
    "for i in \"Darshan\":\n",
    "    print(i)\n"
   ]
  },
  {
   "cell_type": "code",
   "execution_count": 9,
   "metadata": {},
   "outputs": [
    {
     "name": "stdout",
     "output_type": "stream",
     "text": [
      "1\n",
      "3\n",
      "5\n",
      "7\n",
      "9\n"
     ]
    }
   ],
   "source": [
    "# range function with step\n",
    "\n",
    "for i in range(1,10,2):\n",
    "    print(i)"
   ]
  }
 ],
 "metadata": {
  "kernelspec": {
   "display_name": "base",
   "language": "python",
   "name": "python3"
  },
  "language_info": {
   "codemirror_mode": {
    "name": "ipython",
    "version": 3
   },
   "file_extension": ".py",
   "mimetype": "text/x-python",
   "name": "python",
   "nbconvert_exporter": "python",
   "pygments_lexer": "ipython3",
   "version": "3.9.13"
  }
 },
 "nbformat": 4,
 "nbformat_minor": 2
}
