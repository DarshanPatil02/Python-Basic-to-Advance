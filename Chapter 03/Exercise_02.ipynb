{
 "cells": [
  {
   "cell_type": "code",
   "execution_count": 1,
   "metadata": {},
   "outputs": [
    {
     "name": "stdout",
     "output_type": "stream",
     "text": [
      "too low\n",
      "too low\n",
      "too low\n",
      "too low\n",
      "too low\n",
      "too low\n",
      "too high\n",
      "too high\n",
      "too high\n",
      "too high\n",
      "too high\n",
      "too high\n",
      "You win and you guessed this number in 13 times\n"
     ]
    }
   ],
   "source": [
    "# Number Guessing Game\n",
    "import random\n",
    "winning_number=random.randint(1,100)\n",
    "guess=1\n",
    "number = int(input(\"Guess a number between 1 to 100: \"))\n",
    "game_over=False\n",
    "\n",
    "while not game_over:\n",
    "    if number==winning_number:\n",
    "        print(f\"You win and you guessed this number in {guess} times\")\n",
    "        game_over=True\n",
    "    else: \n",
    "        if number<winning_number:\n",
    "            print(\"too low\")\n",
    "            guess+=1\n",
    "            number = int(input(\"Guess again: \"))\n",
    "        else:\n",
    "            print(\"too high\")\n",
    "            guess+=1\n",
    "            number = int(input(\"Guess again: \"))\n",
    "\n"
   ]
  }
 ],
 "metadata": {
  "kernelspec": {
   "display_name": "base",
   "language": "python",
   "name": "python3"
  },
  "language_info": {
   "codemirror_mode": {
    "name": "ipython",
    "version": 3
   },
   "file_extension": ".py",
   "mimetype": "text/x-python",
   "name": "python",
   "nbconvert_exporter": "python",
   "pygments_lexer": "ipython3",
   "version": "3.9.13"
  }
 },
 "nbformat": 4,
 "nbformat_minor": 2
}
