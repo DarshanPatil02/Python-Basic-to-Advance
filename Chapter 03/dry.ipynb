{
 "cells": [
  {
   "cell_type": "code",
   "execution_count": 1,
   "metadata": {},
   "outputs": [],
   "source": [
    "# In the world of software development, maintaining clean, efficient, and manageable code is crucial. One fundamental principle that aids in achieving this goal is DRY, which stands for “Don't Repeat Yourself.” DRY is a software development principle that promotes code reusability, maintainability, and readability."
   ]
  },
  {
   "cell_type": "code",
   "execution_count": 2,
   "metadata": {},
   "outputs": [
    {
     "name": "stdout",
     "output_type": "stream",
     "text": [
      "too high\n",
      "too high\n",
      "too low\n",
      "too low\n",
      "too low\n",
      "too high\n",
      "too low\n",
      "too high\n",
      "You win and you guessed this number in 9 times\n"
     ]
    }
   ],
   "source": [
    "import random\n",
    "winning_number=random.randint(1,100)\n",
    "game_over=False\n",
    "number=int(input(\"Enter number between 1 to 100: \"))\n",
    "guess=1\n",
    "\n",
    "while not game_over:\n",
    "    if number==winning_number:\n",
    "        print(f\"You win and you guessed this number in {guess} times\")\n",
    "        game_over=True\n",
    "    else:\n",
    "        if number<winning_number:\n",
    "            print(\"too low\")\n",
    "        else:\n",
    "            print(\"too high\")\n",
    "        guess+=1\n",
    "        number=int(input(\"Guess again: \"))\n",
    "        # DRY -> Don't Repeate Yourself\n"
   ]
  }
 ],
 "metadata": {
  "kernelspec": {
   "display_name": "base",
   "language": "python",
   "name": "python3"
  },
  "language_info": {
   "codemirror_mode": {
    "name": "ipython",
    "version": 3
   },
   "file_extension": ".py",
   "mimetype": "text/x-python",
   "name": "python",
   "nbconvert_exporter": "python",
   "pygments_lexer": "ipython3",
   "version": "3.9.13"
  }
 },
 "nbformat": 4,
 "nbformat_minor": 2
}
