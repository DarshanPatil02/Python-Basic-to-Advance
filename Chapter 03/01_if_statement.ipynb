{
 "cells": [
  {
   "cell_type": "code",
   "execution_count": 1,
   "metadata": {},
   "outputs": [
    {
     "name": "stdout",
     "output_type": "stream",
     "text": [
      "Your age is above 14\n"
     ]
    }
   ],
   "source": [
    "# Syntax\n",
    "# if condition:\n",
    "#   #code # if condition is true then this code will execute\n",
    "\n",
    "age = int(input(\"Enter your age: \"))\n",
    "if age>=14:\n",
    "    print(\"Your age is above 14\")\n"
   ]
  },
  {
   "cell_type": "code",
   "execution_count": 2,
   "metadata": {},
   "outputs": [],
   "source": [
    "# Pass\n",
    "x = 18\n",
    "if x>=18:\n",
    "    pass"
   ]
  },
  {
   "cell_type": "code",
   "execution_count": 3,
   "metadata": {},
   "outputs": [
    {
     "name": "stdout",
     "output_type": "stream",
     "text": [
      "Your age is above 14\n"
     ]
    }
   ],
   "source": [
    "# Else Statement\n",
    "age = int(input(\"Enter your age: \"))\n",
    "if age>=14:\n",
    "    print(\"Your age is above 14\")\n",
    "else:\n",
    "    print(\"Your age is less than 14\")\n"
   ]
  },
  {
   "cell_type": "code",
   "execution_count": 4,
   "metadata": {},
   "outputs": [
    {
     "name": "stdout",
     "output_type": "stream",
     "text": [
      "Condition is True\n",
      "Condition is False\n"
     ]
    }
   ],
   "source": [
    "# Check two condition at same time\n",
    "# and, or\n",
    "     \n",
    "name = \"abc\"\n",
    "age = 19\n",
    "\n",
    "# And\n",
    "if name=='abc' and age==19:\n",
    "    print(\"Condition is True\")\n",
    "else:\n",
    "    print(\"Condition is False\")\n",
    "\n",
    "if name=='abc' and age==25:\n",
    "    print(\"Condition is True\")\n",
    "else:\n",
    "    print(\"Condition is False\")"
   ]
  },
  {
   "cell_type": "code",
   "execution_count": 5,
   "metadata": {},
   "outputs": [
    {
     "name": "stdout",
     "output_type": "stream",
     "text": [
      "Condition is True\n"
     ]
    }
   ],
   "source": [
    "if name=='xyz' or age==19:\n",
    "    print(\"Condition is True\")\n",
    "else:\n",
    "    print(\"Condition is False\")"
   ]
  }
 ],
 "metadata": {
  "kernelspec": {
   "display_name": "base",
   "language": "python",
   "name": "python3"
  },
  "language_info": {
   "codemirror_mode": {
    "name": "ipython",
    "version": 3
   },
   "file_extension": ".py",
   "mimetype": "text/x-python",
   "name": "python",
   "nbconvert_exporter": "python",
   "pygments_lexer": "ipython3",
   "version": "3.9.13"
  }
 },
 "nbformat": 4,
 "nbformat_minor": 2
}
